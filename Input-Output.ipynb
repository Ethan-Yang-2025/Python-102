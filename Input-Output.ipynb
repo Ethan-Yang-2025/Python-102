{
 "cells": [
  {
   "cell_type": "markdown",
   "id": "9f0e3610-2940-437f-8bcd-1f848f0fdeaf",
   "metadata": {},
   "source": [
    "# Printing Output"
   ]
  },
  {
   "cell_type": "code",
   "execution_count": 1,
   "id": "8d1b7be5-20f4-452f-8e8f-1a235a4a8eb6",
   "metadata": {},
   "outputs": [
    {
     "name": "stdout",
     "output_type": "stream",
     "text": [
      "Hello World!\n"
     ]
    }
   ],
   "source": [
    "# print string output\n",
    "print(\"Hello World!\")"
   ]
  },
  {
   "cell_type": "code",
   "execution_count": 7,
   "id": "9db5f691-cddb-47ef-87d4-ac1596a1fe67",
   "metadata": {},
   "outputs": [
    {
     "name": "stdout",
     "output_type": "stream",
     "text": [
      "100\n"
     ]
    }
   ],
   "source": [
    "# print variable output\n",
    "x = 100\n",
    "print(x)"
   ]
  },
  {
   "cell_type": "code",
   "execution_count": 2,
   "id": "01c55d32-d0a6-4e18-84e4-7480d15691ac",
   "metadata": {},
   "outputs": [
    {
     "name": "stdout",
     "output_type": "stream",
     "text": [
      "x is 50\n"
     ]
    }
   ],
   "source": [
    "# print mixture of string and variable\n",
    "x = 50\n",
    "print(\"x is\", x)"
   ]
  },
  {
   "cell_type": "markdown",
   "id": "d4ec36f4-02c7-4f0e-9fca-410c1994a8d3",
   "metadata": {},
   "source": [
    "# Getting Input"
   ]
  },
  {
   "cell_type": "code",
   "execution_count": 3,
   "id": "0655647d-22bb-4229-bb38-6e69eaa47fdf",
   "metadata": {},
   "outputs": [
    {
     "name": "stdin",
     "output_type": "stream",
     "text": [
      "What's your name? Ethan\n"
     ]
    }
   ],
   "source": [
    "name = input(\"What's your name?\")"
   ]
  },
  {
   "cell_type": "code",
   "execution_count": 11,
   "id": "841ed49e-e993-46cb-91c7-f8802d75bb0b",
   "metadata": {},
   "outputs": [
    {
     "data": {
      "text/plain": [
       "str"
      ]
     },
     "execution_count": 11,
     "metadata": {},
     "output_type": "execute_result"
    }
   ],
   "source": [
    "# check variable type\n",
    "type(name)"
   ]
  },
  {
   "cell_type": "code",
   "execution_count": 8,
   "id": "6cbce11a-9b09-4919-b2b1-be8373f76738",
   "metadata": {},
   "outputs": [
    {
     "name": "stdin",
     "output_type": "stream",
     "text": [
      "How old are you? 20\n"
     ]
    }
   ],
   "source": [
    "# input must be integer\n",
    "age = int(input(\"How old are you?\"))"
   ]
  },
  {
   "cell_type": "code",
   "execution_count": 14,
   "id": "3f2a2f4d-01d4-4b3b-ac05-f5e4e9c41fc2",
   "metadata": {},
   "outputs": [
    {
     "data": {
      "text/plain": [
       "int"
      ]
     },
     "execution_count": 14,
     "metadata": {},
     "output_type": "execute_result"
    }
   ],
   "source": [
    "# check variable type\n",
    "type(age)"
   ]
  },
  {
   "cell_type": "markdown",
   "id": "44bbcf4a-d1cf-46d1-825d-c07630ad760d",
   "metadata": {},
   "source": [
    "# Excercise: BMI calculator\n",
    "### What To Do\n",
    "##### 1. Get user's name\n",
    "##### 2. Get user's height(cm)\n",
    "##### 3. Get user's weight(kg)\n",
    "##### 4. Calculate BMI by [weight/height/height*10000]\n",
    "##### 5. Display user's name and BMI in the same line"
   ]
  },
  {
   "cell_type": "code",
   "execution_count": 23,
   "id": "2d13c9b5-c9a5-4c6a-8fe0-629060e782c9",
   "metadata": {},
   "outputs": [
    {
     "name": "stdin",
     "output_type": "stream",
     "text": [
      "What's ur name? Ethan\n",
      "How tall r u? (cm) 170\n",
      "How much do u weight? (kg) 50\n"
     ]
    },
    {
     "name": "stdout",
     "output_type": "stream",
     "text": [
      "Ethan's BMI is 17.3\n"
     ]
    }
   ],
   "source": [
    "# Get user's name, weight, height\n",
    "name = input(\"What's ur name?\")\n",
    "h = int(input(\"How tall r u? (cm)\"))\n",
    "w = int(input(\"How much do u weight? (kg)\"))\n",
    "\n",
    "# Calculate BMI and round into 2 digits\n",
    "BMI = round(w/h/h*10000,2)\n",
    "\n",
    "# Show user's name and rounded BMI\n",
    "print(f\"{name}'s BMI is {BMI}\")"
   ]
  },
  {
   "cell_type": "code",
   "execution_count": null,
   "id": "908dbc38-4048-4974-a0e1-928c0a8975e8",
   "metadata": {},
   "outputs": [],
   "source": []
  }
 ],
 "metadata": {
  "kernelspec": {
   "display_name": "Python 3 (ipykernel)",
   "language": "python",
   "name": "python3"
  },
  "language_info": {
   "codemirror_mode": {
    "name": "ipython",
    "version": 3
   },
   "file_extension": ".py",
   "mimetype": "text/x-python",
   "name": "python",
   "nbconvert_exporter": "python",
   "pygments_lexer": "ipython3",
   "version": "3.13.5"
  }
 },
 "nbformat": 4,
 "nbformat_minor": 5
}
