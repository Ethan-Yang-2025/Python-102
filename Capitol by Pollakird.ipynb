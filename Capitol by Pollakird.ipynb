{
 "cells": [
  {
   "cell_type": "code",
   "execution_count": null,
   "id": "e7223acf",
   "metadata": {},
   "outputs": [],
   "source": [
    "#Create data source file for country capitals\n",
    "#run thiscolumn to reset data source file\n",
    "import json\n",
    "\n",
    "cc_dict = {'Thailand' : 'Bangkok', 'Japan' : 'Tokyo', 'India' : 'New delhi', 'China' : 'Beijing', 'Usa' : 'Washington dc'}\n",
    "\n",
    "with open('CC_real.json', 'w') as dsource:\n",
    "    json.dump(cc_dict, dsource)"
   ]
  },
  {
   "cell_type": "code",
   "execution_count": null,
   "id": "114e53ac",
   "metadata": {},
   "outputs": [],
   "source": [
    "# Import exit function from system module\n",
    "import sys"
   ]
  },
  {
   "cell_type": "code",
   "execution_count": null,
   "id": "507f3812",
   "metadata": {},
   "outputs": [],
   "source": [
    "# Define functions for the program\n",
    "# Func1: Fetch data from the JSON file + create a dictionary with lowercase keys for case-insensitive lookups.\n",
    "def get_data():\n",
    "    with open('CC_real.json', 'r') as dsource:\n",
    "        data = json.load(dsource)\n",
    "        lower_data = {}\n",
    "        for k in data:\n",
    "            lower_data[k.lower()] = k\n",
    "        return data, lower_data\n",
    "    \n",
    "\n",
    "# Func2: When the country and capital are unknown, this function will add the country and capital to the data source.\n",
    "def add_countcap(country, capital):\n",
    "    # Load existing data\n",
    "    with open('CC_real.json', 'r') as dsource:\n",
    "        data = json.load(dsource)\n",
    "    # Add or update entry\n",
    "    data[country] = capital\n",
    "    # Write back to file\n",
    "    with open('CC_real.json', 'w') as dsource:\n",
    "        json.dump(data, dsource)     "
   ]
  },
  {
   "cell_type": "code",
   "execution_count": null,
   "id": "b1bb4783",
   "metadata": {},
   "outputs": [
    {
     "name": "stdout",
     "output_type": "stream",
     "text": [
      "Welcome to the Country Capitals program!\n",
      "The capital of Germany is Berlin.\n",
      "Invalid input. Please type \"yes\" or \"no\".\n",
      "Welcome to the Country Capitals program!\n",
      "The capital of Indonesia is Jakarta.\n",
      "Thank you for using the Country Capitals program. Goodbye!\n"
     ]
    },
    {
     "ename": "SystemExit",
     "evalue": "",
     "output_type": "error",
     "traceback": [
      "An exception has occurred, use %tb to see the full traceback.\n",
      "\u001b[31mSystemExit\u001b[39m\n"
     ]
    }
   ],
   "source": [
    "# Main program starts here #\n",
    "while True:\n",
    "    print('Welcome to the Country Capitals program!')\n",
    "\n",
    "    # Ask user for country name\n",
    "    country = input('Enter a country name and I will show its capitol name: ')\n",
    "\n",
    "    # Normalize country name for case-insensitive comparison\n",
    "    upper_country = country.title()\n",
    "    lower_country = country.lower()\n",
    "    data, lower_data = get_data()\n",
    "\n",
    "    if lower_country in lower_data:\n",
    "        print(f\"The capital of {upper_country} is {data[upper_country]}.\")\n",
    "\n",
    "    else:\n",
    "        capital = input(f'Sorry, I don\\'t know the capital of {upper_country}. Please enter it: ')\n",
    "        add_countcap(upper_country, capital.title())\n",
    "        print(f'Thank you! I have added {upper_country} with its capital {upper_country} to the data source.')\n",
    "    \n",
    "    # Ask if user wants to continue if yes, exit if no\n",
    "    while True:\n",
    "        req = input('Would you like to continue? (yes/no):')\n",
    "        if req.lower() == 'yes':\n",
    "            break\n",
    "\n",
    "        elif req.lower() == 'no':\n",
    "            print('Thank you for using the Country Capitals program. Goodbye!')\n",
    "            sys.exit()\n",
    "    \n",
    "        else:\n",
    "            print('Invalid input. Please type \\\"yes\\\" or \\\"no\\\".')"
   ]
  }
 ],
 "metadata": {
  "kernelspec": {
   "display_name": "base",
   "language": "python",
   "name": "python3"
  },
  "language_info": {
   "codemirror_mode": {
    "name": "ipython",
    "version": 3
   },
   "file_extension": ".py",
   "mimetype": "text/x-python",
   "name": "python",
   "nbconvert_exporter": "python",
   "pygments_lexer": "ipython3",
   "version": "3.13.5"
  }
 },
 "nbformat": 4,
 "nbformat_minor": 5
}
