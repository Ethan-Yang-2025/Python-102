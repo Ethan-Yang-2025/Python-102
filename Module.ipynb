{
 "cells": [
  {
   "cell_type": "markdown",
   "id": "49bbba24-da52-4aec-8ca1-671ecfce79d7",
   "metadata": {},
   "source": [
    "# Importing Modules\n",
    "### 1.1 import module -> imports entire module"
   ]
  },
  {
   "cell_type": "code",
   "execution_count": 3,
   "id": "99e5c1e7-35cf-4912-a7b6-66bb4cc51792",
   "metadata": {},
   "outputs": [
    {
     "name": "stdout",
     "output_type": "stream",
     "text": [
      "3\n"
     ]
    }
   ],
   "source": [
    "import random\n",
    "\n",
    "a = random.randint(1,10)\n",
    "print(a)"
   ]
  },
  {
   "cell_type": "markdown",
   "id": "a565ab49-2233-4286-b2a9-3b97af298944",
   "metadata": {},
   "source": [
    "### 1.2 From module import func1, func2, ... -> imports 1 or more funtions from the module"
   ]
  },
  {
   "cell_type": "code",
   "execution_count": 7,
   "id": "e35cf3f0-1f38-4dfd-843b-3cd43f04ba83",
   "metadata": {},
   "outputs": [
    {
     "name": "stdout",
     "output_type": "stream",
     "text": [
      "a = 9 \n",
      "b = 5\n"
     ]
    }
   ],
   "source": [
    "from random import randint, choice\n",
    "\n",
    "a = randint(1,10)\n",
    "\n",
    "list1 = [1, 2, 3, 4, 5]\n",
    "b = choice(list1)\n",
    "\n",
    "print('a =', a, '\\nb =', b)"
   ]
  },
  {
   "cell_type": "markdown",
   "id": "dc7a0085-9b6e-4d7c-bf5e-c8d2010fbe6a",
   "metadata": {},
   "source": [
    "### 1.3 From module import * -> imports every function in the module"
   ]
  },
  {
   "cell_type": "code",
   "execution_count": 12,
   "id": "6d8547af-9718-479e-8729-097c5c59279d",
   "metadata": {},
   "outputs": [
    {
     "name": "stdout",
     "output_type": "stream",
     "text": [
      "a = 1 \n",
      "b = 3 \n",
      "c = [2, 3, 1, 5, 4]\n"
     ]
    }
   ],
   "source": [
    "from random import *\n",
    "\n",
    "a = randint(1,10)\n",
    "\n",
    "list1 = [1, 2, 3, 4, 5]\n",
    "b = choice(list1)\n",
    "shuffle(list1)\n",
    "\n",
    "print('a =', a, '\\nb =', b, '\\nc =', list1)"
   ]
  },
  {
   "cell_type": "markdown",
   "id": "ca3303e5-ece3-477a-982b-8be294725619",
   "metadata": {},
   "source": [
    "# Changing Module Name"
   ]
  },
  {
   "cell_type": "code",
   "execution_count": 14,
   "id": "9906072f-5687-4079-8add-43da9e3b85e9",
   "metadata": {},
   "outputs": [
    {
     "name": "stdout",
     "output_type": "stream",
     "text": [
      "9\n"
     ]
    }
   ],
   "source": [
    "import random as rd\n",
    "\n",
    "a = rd.randint(1,10)\n",
    "print(a)"
   ]
  },
  {
   "cell_type": "code",
   "execution_count": 16,
   "id": "e988f946-60a6-435d-803e-45f8429fa968",
   "metadata": {},
   "outputs": [
    {
     "name": "stdout",
     "output_type": "stream",
     "text": [
      "2\n"
     ]
    }
   ],
   "source": [
    "from random import randint as ri\n",
    "\n",
    "a = ri(1,10)\n",
    "print(a)"
   ]
  },
  {
   "cell_type": "markdown",
   "id": "04982d02-6860-4814-8d62-78f74c8d014e",
   "metadata": {},
   "source": [
    "# 3. Examples of Modules"
   ]
  },
  {
   "cell_type": "markdown",
   "id": "dda3a58d-6825-4456-ad1a-b2588420c961",
   "metadata": {},
   "source": [
    "### 3.1 sys"
   ]
  },
  {
   "cell_type": "code",
   "execution_count": 24,
   "id": "427153b0-4a31-41c4-b6ff-5b246087b11a",
   "metadata": {},
   "outputs": [
    {
     "name": "stdin",
     "output_type": "stream",
     "text": [
      "Would you like to quit the program? (yes/no) 123\n",
      "Would you like to quit the program? (yes/no) YES\n"
     ]
    },
    {
     "ename": "SystemExit",
     "evalue": "",
     "output_type": "error",
     "traceback": [
      "An exception has occurred, use %tb to see the full traceback.\n",
      "\u001b[31mSystemExit\u001b[39m\n"
     ]
    }
   ],
   "source": [
    "import sys\n",
    "\n",
    "while True:\n",
    "    answer = input('Would you like to quit the program? (yes/no)')\n",
    "    # .lower() -> convert input characters into lower case\n",
    "    if answer.lower() == 'yes':\n",
    "        sys.exit()"
   ]
  },
  {
   "cell_type": "markdown",
   "id": "b871ada3-d92c-4134-8dbb-ec104a1882ca",
   "metadata": {},
   "source": [
    "### 3.2 random"
   ]
  },
  {
   "cell_type": "code",
   "execution_count": 25,
   "id": "b9147ddf-0479-41f6-bab8-ffe7dde0de8c",
   "metadata": {},
   "outputs": [
    {
     "name": "stdout",
     "output_type": "stream",
     "text": [
      "orange\n"
     ]
    }
   ],
   "source": [
    "import random\n",
    "\n",
    "mylist = ['orange', 109, False, 10.52, 'blue', 'pink']\n",
    "print(random.choice(mylist))"
   ]
  },
  {
   "cell_type": "code",
   "execution_count": 27,
   "id": "51fbfcb2-efd6-4e0c-b11b-e25aa650b0cd",
   "metadata": {},
   "outputs": [
    {
     "name": "stdout",
     "output_type": "stream",
     "text": [
      "2\n"
     ]
    }
   ],
   "source": [
    "print(random.randint(1, 10))"
   ]
  },
  {
   "cell_type": "code",
   "execution_count": 30,
   "id": "f794571a-df46-42aa-8c92-153cfe58704b",
   "metadata": {},
   "outputs": [
    {
     "name": "stdout",
     "output_type": "stream",
     "text": [
      "30\n"
     ]
    }
   ],
   "source": [
    "print(random.randrange(0, 60, 10))\n",
    "# the actual sample space in (0, 10, 20, 30, 40, 50)\n",
    "# 60(end) is excluded\n",
    "# a step between each number is 10"
   ]
  },
  {
   "cell_type": "markdown",
   "id": "cfb6c2a2-a07d-4bb5-8e34-07f44f39bfdb",
   "metadata": {},
   "source": [
    "### 3.3 math"
   ]
  },
  {
   "cell_type": "code",
   "execution_count": 31,
   "id": "3cab8ce6-6e5f-4b51-ad99-5926b6786f4f",
   "metadata": {},
   "outputs": [
    {
     "name": "stdout",
     "output_type": "stream",
     "text": [
      "Celing value of 24.11 is 25\n"
     ]
    }
   ],
   "source": [
    "import math\n",
    "\n",
    "print('Celing value of 24.11 is', math.ceil(24.11))"
   ]
  },
  {
   "cell_type": "code",
   "execution_count": 32,
   "id": "e0a4d6c5-4d4e-43f5-8016-cfa087a6a4f6",
   "metadata": {},
   "outputs": [
    {
     "name": "stdout",
     "output_type": "stream",
     "text": [
      "Square root value of 100 is 10.0\n"
     ]
    }
   ],
   "source": [
    "print('Square root value of 100 is', math.sqrt(100))"
   ]
  },
  {
   "cell_type": "code",
   "execution_count": 33,
   "id": "1614cad4-817b-4af8-b913-39444bb5bc43",
   "metadata": {},
   "outputs": [
    {
     "name": "stdout",
     "output_type": "stream",
     "text": [
      "Absolute value of -12.50 is 12.5\n"
     ]
    }
   ],
   "source": [
    "print('Absolute value of -12.50 is', math.fabs(-12.50))"
   ]
  },
  {
   "cell_type": "markdown",
   "id": "e81f931c-081f-44bc-a739-3ef4e5084b38",
   "metadata": {},
   "source": [
    "# 4. Importing My Own Module"
   ]
  },
  {
   "cell_type": "code",
   "execution_count": 35,
   "id": "ef68c6ec-14bb-4431-9bf0-6cf99f1e0a9a",
   "metadata": {},
   "outputs": [
    {
     "name": "stdin",
     "output_type": "stream",
     "text": [
      "Tell me ur weight (kg): 50\n",
      "Tell me ur height (cm): 170\n"
     ]
    },
    {
     "name": "stdout",
     "output_type": "stream",
     "text": [
      "ur BMI is 17\n"
     ]
    }
   ],
   "source": [
    "import BMIcalc\n",
    "\n",
    "weight = int(input('Tell me ur weight (kg):'))\n",
    "height = int(input('Tell me ur height (cm):'))\n",
    "print('ur BMI is', int(BMIcalc.BMI(weight,height)))"
   ]
  },
  {
   "cell_type": "code",
   "execution_count": null,
   "id": "8c041607-14b9-4316-9177-441212add606",
   "metadata": {},
   "outputs": [],
   "source": []
  }
 ],
 "metadata": {
  "kernelspec": {
   "display_name": "Python 3 (ipykernel)",
   "language": "python",
   "name": "python3"
  },
  "language_info": {
   "codemirror_mode": {
    "name": "ipython",
    "version": 3
   },
   "file_extension": ".py",
   "mimetype": "text/x-python",
   "name": "python",
   "nbconvert_exporter": "python",
   "pygments_lexer": "ipython3",
   "version": "3.13.5"
  }
 },
 "nbformat": 4,
 "nbformat_minor": 5
}
