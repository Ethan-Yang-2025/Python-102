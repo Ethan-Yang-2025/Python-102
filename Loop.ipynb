{
 "cells": [
  {
   "cell_type": "markdown",
   "id": "e580e76e-2b64-4a8c-a16c-c55f5c015081",
   "metadata": {},
   "source": [
    "#### Range Function"
   ]
  },
  {
   "cell_type": "code",
   "execution_count": 10,
   "id": "3e40fea7-9d0a-444a-9a1e-cf2c68bab2ec",
   "metadata": {},
   "outputs": [
    {
     "name": "stdout",
     "output_type": "stream",
     "text": [
      "0 1 2 3 4 "
     ]
    }
   ],
   "source": [
    "for i in range(5):\n",
    "    print(i, end = \" \")"
   ]
  },
  {
   "cell_type": "code",
   "execution_count": 11,
   "id": "3377d73d-533a-4e6d-8e8d-979106bd40e9",
   "metadata": {},
   "outputs": [
    {
     "name": "stdout",
     "output_type": "stream",
     "text": [
      "1 2 3 4 "
     ]
    }
   ],
   "source": [
    "for i in range(1, 5):\n",
    "    print(i, end = \" \")"
   ]
  },
  {
   "cell_type": "code",
   "execution_count": 1,
   "id": "a19d1590-8456-4a3a-be8d-311a138eacad",
   "metadata": {},
   "outputs": [
    {
     "name": "stdout",
     "output_type": "stream",
     "text": [
      "0 2 4 6 8 "
     ]
    }
   ],
   "source": [
    "for i in range(0, 10, 2):\n",
    "    print(i, end = \" \")"
   ]
  },
  {
   "cell_type": "code",
   "execution_count": 4,
   "id": "167615f2-0494-4711-b454-8b5bc102ec58",
   "metadata": {},
   "outputs": [
    {
     "name": "stdout",
     "output_type": "stream",
     "text": [
      "10 8 6 4 2 "
     ]
    }
   ],
   "source": [
    "for i in range(10, 0, -2):\n",
    "    print(i, end = \" \")"
   ]
  },
  {
   "cell_type": "markdown",
   "id": "757d6e95-c143-49b0-be3f-7dddf35a3d75",
   "metadata": {},
   "source": [
    "# For Loop"
   ]
  },
  {
   "cell_type": "markdown",
   "id": "b51badc0-43a6-431f-b790-75fe63b0fae7",
   "metadata": {},
   "source": [
    "### For Loop with Range Function"
   ]
  },
  {
   "cell_type": "code",
   "execution_count": 20,
   "id": "02394b7a-622e-4ec2-a837-eb3e443ec05e",
   "metadata": {},
   "outputs": [
    {
     "name": "stdout",
     "output_type": "stream",
     "text": [
      "🔥\n",
      "🔥🔥\n",
      "🔥🔥🔥\n",
      "🔥🔥🔥🔥\n",
      "🔥🔥🔥🔥🔥\n"
     ]
    }
   ],
   "source": [
    "for i in range(5):\n",
    "    print(\"🔥\" * (i+1))"
   ]
  },
  {
   "cell_type": "markdown",
   "id": "7e6c5f3a-56d1-4f74-8e6f-03430f70f652",
   "metadata": {},
   "source": [
    "### For Loop with List/Tuple"
   ]
  },
  {
   "cell_type": "code",
   "execution_count": 27,
   "id": "aa64f7f9-b19b-448e-9b14-af9f17733385",
   "metadata": {},
   "outputs": [
    {
     "name": "stdout",
     "output_type": "stream",
     "text": [
      "It's monday !\n",
      "It's tuesday !\n",
      "It's wednesday !\n",
      "It's thursday !\n",
      "It's friday !\n",
      "It's saturday !\n",
      "It's sunday !\n"
     ]
    }
   ],
   "source": [
    "week = (\"monday\", \"tuesday\", \"wednesday\", \"thursday\", \"friday\", \"saturday\", \"sunday\")\n",
    "for day in week:\n",
    "    print(\"It's\", day, \"!\")"
   ]
  },
  {
   "cell_type": "markdown",
   "id": "87820c12-360a-4903-aab7-3b9ca8dbeb03",
   "metadata": {},
   "source": [
    "### For Loop with String"
   ]
  },
  {
   "cell_type": "code",
   "execution_count": 25,
   "id": "b2ae091b-724b-4d87-bdd1-c825bc3868d8",
   "metadata": {},
   "outputs": [
    {
     "name": "stdout",
     "output_type": "stream",
     "text": [
      "a l p h a b e t "
     ]
    }
   ],
   "source": [
    "for letter in \"alphabet\":\n",
    "    print(letter, end = \" \")"
   ]
  },
  {
   "cell_type": "markdown",
   "id": "e1ffe20c-0e5a-488c-aba0-36c6d1e1d7a2",
   "metadata": {},
   "source": [
    "### While Loop"
   ]
  },
  {
   "cell_type": "code",
   "execution_count": 5,
   "id": "f7c6102e-faf0-46c9-a73a-bf964feac079",
   "metadata": {},
   "outputs": [
    {
     "name": "stdin",
     "output_type": "stream",
     "text": [
      "What is the password?:  unlock\n"
     ]
    },
    {
     "name": "stdout",
     "output_type": "stream",
     "text": [
      "Try again.\n"
     ]
    },
    {
     "name": "stdin",
     "output_type": "stream",
     "text": [
      "What is the password?:  inl0ck\n"
     ]
    },
    {
     "name": "stdout",
     "output_type": "stream",
     "text": [
      "Try again.\n"
     ]
    },
    {
     "name": "stdin",
     "output_type": "stream",
     "text": [
      "What is the password?:  unl0ck\n"
     ]
    },
    {
     "name": "stdout",
     "output_type": "stream",
     "text": [
      "Try again.\n",
      "Yes, the password is unl0ck. You may enter.\n"
     ]
    }
   ],
   "source": [
    "pass_in = \"\"\n",
    "while pass_in != \"unl0ck\":\n",
    "    pass_in = input(\"What is the password?: \")\n",
    "    print(\"Try again.\")\n",
    "print(\"Yes, the password is \" + pass_in + \". You may enter.\")"
   ]
  },
  {
   "cell_type": "markdown",
   "id": "558f992f-f64b-419e-9f41-802b09be5501",
   "metadata": {},
   "source": [
    "### Break Statement"
   ]
  },
  {
   "cell_type": "code",
   "execution_count": 8,
   "id": "858d2b7d-db48-40b6-b850-7969d4abffa6",
   "metadata": {},
   "outputs": [
    {
     "name": "stdout",
     "output_type": "stream",
     "text": [
      "a l p h a "
     ]
    }
   ],
   "source": [
    "for letter in \"alphabet\":\n",
    "    if letter == \"b\":\n",
    "        break\n",
    "    print(letter, end = \" \")"
   ]
  },
  {
   "cell_type": "markdown",
   "id": "35958953-a61c-4815-a9ec-49959a2e8bda",
   "metadata": {},
   "source": [
    "### Infinite Loop"
   ]
  },
  {
   "cell_type": "code",
   "execution_count": 10,
   "id": "b6af57a0-7e06-476c-b06c-5b0b32ac7217",
   "metadata": {},
   "outputs": [
    {
     "name": "stdin",
     "output_type": "stream",
     "text": [
      "What is password? ubiaw9\n"
     ]
    },
    {
     "name": "stdout",
     "output_type": "stream",
     "text": [
      "Try again\n"
     ]
    },
    {
     "name": "stdin",
     "output_type": "stream",
     "text": [
      "What is password? iusdhew\n"
     ]
    },
    {
     "name": "stdout",
     "output_type": "stream",
     "text": [
      "Try again\n"
     ]
    },
    {
     "name": "stdin",
     "output_type": "stream",
     "text": [
      "What is password? idrhoc\n"
     ]
    },
    {
     "name": "stdout",
     "output_type": "stream",
     "text": [
      "Try again\n"
     ]
    },
    {
     "name": "stdin",
     "output_type": "stream",
     "text": [
      "What is password? dfhce\n"
     ]
    },
    {
     "name": "stdout",
     "output_type": "stream",
     "text": [
      "Try again\n"
     ]
    },
    {
     "name": "stdin",
     "output_type": "stream",
     "text": [
      "What is password? un10ck\n"
     ]
    },
    {
     "name": "stdout",
     "output_type": "stream",
     "text": [
      "Try again\n"
     ]
    },
    {
     "name": "stdin",
     "output_type": "stream",
     "text": [
      "What is password? unl0ck\n"
     ]
    },
    {
     "name": "stdout",
     "output_type": "stream",
     "text": [
      "Try again\n",
      "Yes, the password is unl0ck. You may enter.\n"
     ]
    }
   ],
   "source": [
    "pass_in = \"\"\n",
    "while True:\n",
    "    pass_in = input(\"What is password?\")\n",
    "    print(\"Try again\")\n",
    "    if pass_in == \"unl0ck\":\n",
    "        break\n",
    "print(\"Yes, the password is \" + pass_in + \". You may enter.\")"
   ]
  },
  {
   "cell_type": "markdown",
   "id": "286f5e9b-511f-4c98-80a5-cfaafd6194b4",
   "metadata": {},
   "source": [
    "### Continute Statement"
   ]
  },
  {
   "cell_type": "code",
   "execution_count": 15,
   "id": "855056af-4930-4dbb-b0bb-62c4486d59ce",
   "metadata": {},
   "outputs": [
    {
     "name": "stdout",
     "output_type": "stream",
     "text": [
      "today is monday !\n",
      "today is tuesday !\n",
      "today is wednesday !\n",
      "today is friday !\n",
      "today is saturday !\n",
      "today is sunday !\n",
      "What day is missing?\n"
     ]
    }
   ],
   "source": [
    "week = (\"monday\", \"tuesday\", \"wednesday\", \"thursday\", \"friday\", \"saturday\", \"sunday\")\n",
    "for day in week:\n",
    "    if day == \"thursday\":\n",
    "        continue\n",
    "    print(\"today is \" + day + \" !\")\n",
    "print(\"What day is missing?\")"
   ]
  },
  {
   "cell_type": "markdown",
   "id": "76004615-130b-49fd-8566-fd4d4e10a931",
   "metadata": {},
   "source": [
    "### Pass Statement"
   ]
  },
  {
   "cell_type": "code",
   "execution_count": 40,
   "id": "c19acb28-baca-40a0-ad55-9cc1d101782c",
   "metadata": {},
   "outputs": [
    {
     "name": "stdout",
     "output_type": "stream",
     "text": [
      "Today is saturday !\n",
      "Today is sunday !\n"
     ]
    }
   ],
   "source": [
    "week = {\"weekday\":[\"monday\", \"tuesday\", \"wednesday\", \"thursday\", \"friday\"], \"weekend\":[\"saturday\", \"sunday\"]}\n",
    "\n",
    "# When a is in weekday -> do notihing\n",
    "for a in week[\"weekday\"]:\n",
    "    pass\n",
    "\n",
    "# When a is in weekend -> print(a)\n",
    "for a in week[\"weekend\"]:\n",
    "    print(\"Today is \" + a + \" !\")"
   ]
  },
  {
   "cell_type": "code",
   "execution_count": null,
   "id": "eb79a562-676f-43c9-8eb8-feceade7a482",
   "metadata": {},
   "outputs": [],
   "source": []
  },
  {
   "cell_type": "code",
   "execution_count": null,
   "id": "f6a6d23a-4c78-49c5-8107-c0938f93541d",
   "metadata": {},
   "outputs": [],
   "source": []
  }
 ],
 "metadata": {
  "kernelspec": {
   "display_name": "Python 3 (ipykernel)",
   "language": "python",
   "name": "python3"
  },
  "language_info": {
   "codemirror_mode": {
    "name": "ipython",
    "version": 3
   },
   "file_extension": ".py",
   "mimetype": "text/x-python",
   "name": "python",
   "nbconvert_exporter": "python",
   "pygments_lexer": "ipython3",
   "version": "3.13.5"
  }
 },
 "nbformat": 4,
 "nbformat_minor": 5
}
