{
 "cells": [
  {
   "cell_type": "markdown",
   "id": "c5a5c295-4837-4166-83b4-4fbc2ac92ae5",
   "metadata": {},
   "source": [
    "# Function "
   ]
  },
  {
   "cell_type": "markdown",
   "id": "5bd21c62-21a6-4287-bb5d-99df231d9580",
   "metadata": {},
   "source": [
    "### Fuction without Argument"
   ]
  },
  {
   "cell_type": "code",
   "execution_count": 6,
   "id": "37a954d7-bebf-4673-96d0-29fa4ba0ff8b",
   "metadata": {},
   "outputs": [
    {
     "name": "stdout",
     "output_type": "stream",
     "text": [
      "Hello!\n"
     ]
    }
   ],
   "source": [
    "def greeting():\n",
    "    print(\"Hello!\")\n",
    "greeting()"
   ]
  },
  {
   "cell_type": "markdown",
   "id": "a335cb60-edd0-43f1-b5d3-967e7c301ef2",
   "metadata": {},
   "source": [
    "### Function with Arguments"
   ]
  },
  {
   "cell_type": "code",
   "execution_count": 8,
   "id": "cb49dd55-c1e7-4a7f-a4b9-dac8ede48395",
   "metadata": {},
   "outputs": [
    {
     "name": "stdin",
     "output_type": "stream",
     "text": [
      "What is your name: Ethan\n",
      "What day is it? Tuesday\n"
     ]
    },
    {
     "name": "stdout",
     "output_type": "stream",
     "text": [
      "hello Ethan ! Have a nice Tuesday\n"
     ]
    }
   ],
   "source": [
    "def greeting(name, day):\n",
    "    print(\"hello\", name, \"!\", \"Have a nice\", day)\n",
    "\n",
    "name = input(\"What is your name:\")\n",
    "day = input(\"What day is it?\")\n",
    "\n",
    "greeting(name, day)"
   ]
  },
  {
   "cell_type": "markdown",
   "id": "7ecb02ee-1313-4b17-a2ba-49b23c8c1694",
   "metadata": {},
   "source": [
    "### Function with Returning Values"
   ]
  },
  {
   "cell_type": "code",
   "execution_count": 12,
   "id": "2ff9ce21-9714-4009-9a7b-dfcda2411a4d",
   "metadata": {},
   "outputs": [
    {
     "name": "stdout",
     "output_type": "stream",
     "text": [
      "156.2 Fahreinheit\n"
     ]
    }
   ],
   "source": [
    "def tempConversion(celciusTemp):\n",
    "    fahreinheitTemp = (celciusTemp*9/5)+32\n",
    "    return(fahreinheitTemp)\n",
    "\n",
    "convertedTemp = tempConversion(69)\n",
    "print(convertedTemp, \"Fahreinheit\")"
   ]
  },
  {
   "cell_type": "markdown",
   "id": "721b731a-ba85-4193-b250-c9a03bad0258",
   "metadata": {},
   "source": [
    "#### Local Variables"
   ]
  },
  {
   "cell_type": "code",
   "execution_count": 43,
   "id": "ef6eed85-ef10-45b2-b5ef-5d4474700ab7",
   "metadata": {},
   "outputs": [
    {
     "name": "stdin",
     "output_type": "stream",
     "text": [
      "Enter your temp: 874\n",
      "Press \"C\" if it's celcius, Press \"F\" if it's fahreinheit:  F\n"
     ]
    },
    {
     "name": "stdout",
     "output_type": "stream",
     "text": [
      "467.78 Celcius\n",
      "Press Shift+Enter to Try again.\n"
     ]
    }
   ],
   "source": [
    "def celciusTofahreinheit(raw):\n",
    "    Temp = round((raw*9/5)+32, 2)\n",
    "    return(Temp)\n",
    "\n",
    "def fahreinheitTocelcius(raw):\n",
    "    Temp = round((raw-32)*5/9, 2)\n",
    "    return(Temp)\n",
    "# Temp(Local Variable) has it's own meaning in each funtions\n",
    "\n",
    "raw = float(input(\"Enter your temp:\"))\n",
    "unit = \"\"\n",
    "\n",
    "while True:\n",
    "    unit = input(\"Press \\\"C\\\" if it's celcius, Press \\\"F\\\" if it's fahreinheit: \")\n",
    "    if unit == \"C\" or unit == \"F\":\n",
    "        break\n",
    "    print(\"Unit Incorrect\")\n",
    "\n",
    "if unit == \"C\":\n",
    "    print(fahreinheitTocelcius(raw), \"Fahreinheit\")\n",
    "    \n",
    "else:\n",
    "    print(fahreinheitTocelcius(raw), \"Celcius\")\n",
    "\n",
    "print(\"Press Shift+Enter to Try again.\")"
   ]
  },
  {
   "cell_type": "markdown",
   "id": "98a139c0-8cb2-4f8e-8516-50dfa6d4f800",
   "metadata": {},
   "source": [
    "### Global Variable"
   ]
  },
  {
   "cell_type": "code",
   "execution_count": 46,
   "id": "8e509a7a-265d-487d-9e37-f036d530dd3a",
   "metadata": {},
   "outputs": [
    {
     "name": "stdout",
     "output_type": "stream",
     "text": [
      "Global a = 1\n",
      "Inside func1 a =  1\n",
      "Global a = 1\n",
      "Inside func2 a = 2\n",
      "Global a = 1\n",
      "Inside func3 a = 3\n",
      "Global a = 3\n"
     ]
    }
   ],
   "source": [
    "a = 1 # this is global a\n",
    "\n",
    "def func1():\n",
    "    print(\"Inside func1 a = \", a) # show value of global a\n",
    "\n",
    "def func2():\n",
    "    a = 2 # this is local a\n",
    "    print(\"Inside func2 a =\", a) # show value of local a\n",
    "    \n",
    "def func3():\n",
    "    global a # give func3 permission to modify global a\n",
    "    a = 3 # change value of global a\n",
    "    print(\"Inside func3 a =\", a) # show value of global a\n",
    "\n",
    "print(\"Global a =\", a)\n",
    "func1()\n",
    "print(\"Global a =\", a)\n",
    "func2()\n",
    "print(\"Global a =\", a)\n",
    "func3()\n",
    "print(\"Global a =\", a)"
   ]
  },
  {
   "cell_type": "markdown",
   "id": "2621775a-385c-4cd7-ab4c-2a8939f7b987",
   "metadata": {},
   "source": [
    "### Lambda Function\n",
    "##### function with no function name"
   ]
  },
  {
   "cell_type": "code",
   "execution_count": 49,
   "id": "5786326f-add5-4268-99d2-be0d13138528",
   "metadata": {},
   "outputs": [
    {
     "name": "stdout",
     "output_type": "stream",
     "text": [
      "77.0\n"
     ]
    }
   ],
   "source": [
    "fahreinheit = lambda c: (c*9/5)+32 # c contains temp in celcius\n",
    "print(fahreinheit(25))"
   ]
  },
  {
   "cell_type": "markdown",
   "id": "7f3f1e68-5344-47cf-8ae6-a755ea657dee",
   "metadata": {},
   "source": [
    "### Lambda Funtion with map()"
   ]
  },
  {
   "cell_type": "code",
   "execution_count": 54,
   "id": "a582574e-9e56-4849-8648-105326ad1675",
   "metadata": {},
   "outputs": [
    {
     "name": "stdout",
     "output_type": "stream",
     "text": [
      "[1, 4, 9, 16, 25, 36, 49, 64, 81, 100]\n"
     ]
    }
   ],
   "source": [
    "numbers = [1, 2, 3, 4, 5, 6, 7, 8, 9, 10]\n",
    "squared_numbers = map(lambda n: n**2, numbers)\n",
    "print(list(squared_numbers))"
   ]
  },
  {
   "cell_type": "code",
   "execution_count": 75,
   "id": "d5e233b6-d5e1-4374-be63-257afd40f0d9",
   "metadata": {
    "scrolled": true
   },
   "outputs": [
    {
     "name": "stdout",
     "output_type": "stream",
     "text": [
      "[1, 4, 9, 16, 25, 36, 49, 64, 81, 100]\n"
     ]
    }
   ],
   "source": [
    "# The alternative way of not using map function\n",
    "numbers = [1, 2, 3, 4, 5, 6, 7, 8, 9, 10]\n",
    "squares = [i**2 for i in numbers] # list comprehension\n",
    "print(squares)"
   ]
  },
  {
   "cell_type": "markdown",
   "id": "6a7496c1-0d86-471d-972d-de60650e4cad",
   "metadata": {},
   "source": [
    "### Lambda function with filter()"
   ]
  },
  {
   "cell_type": "code",
   "execution_count": 66,
   "id": "1e51be2b-bcb4-4b28-b7d2-e69985f5ce25",
   "metadata": {},
   "outputs": [
    {
     "name": "stdout",
     "output_type": "stream",
     "text": [
      "[1, 3, 5, 7, 9]\n"
     ]
    }
   ],
   "source": [
    "numbers = [1, 2, 3, 4, 5, 6, 7, 8, 9, 10]\n",
    "odds = filter(lambda n: n%2 != 0, numbers)\n",
    "print(list(odds))"
   ]
  },
  {
   "cell_type": "code",
   "execution_count": 99,
   "id": "b2f1a169-02e3-4f4a-8080-f2247fffab81",
   "metadata": {},
   "outputs": [
    {
     "name": "stdout",
     "output_type": "stream",
     "text": [
      "[1, 3, 5, 7, 9]\n"
     ]
    }
   ],
   "source": [
    "# The alternative way of not using filter function\n",
    "numbers = [1, 2, 3, 4, 5, 6, 7, 8, 9, 10]\n",
    "odds = [i for i in numbers if i % 2 != 0] # list comprehension\n",
    "print(odds)"
   ]
  },
  {
   "cell_type": "code",
   "execution_count": null,
   "id": "38dc0f68-9f8b-49ad-9b36-50b63e1636ec",
   "metadata": {},
   "outputs": [],
   "source": []
  }
 ],
 "metadata": {
  "kernelspec": {
   "display_name": "Python 3 (ipykernel)",
   "language": "python",
   "name": "python3"
  },
  "language_info": {
   "codemirror_mode": {
    "name": "ipython",
    "version": 3
   },
   "file_extension": ".py",
   "mimetype": "text/x-python",
   "name": "python",
   "nbconvert_exporter": "python",
   "pygments_lexer": "ipython3",
   "version": "3.13.5"
  }
 },
 "nbformat": 4,
 "nbformat_minor": 5
}
