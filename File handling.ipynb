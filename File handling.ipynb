{
 "cells": [
  {
   "cell_type": "markdown",
   "id": "c7d7c995-6ed4-46b8-920d-8abd3130c23d",
   "metadata": {},
   "source": [
    "### Flie object Attributes"
   ]
  },
  {
   "cell_type": "code",
   "execution_count": 8,
   "id": "2ea270a0-b548-47bc-9490-f8ae8d7db53f",
   "metadata": {},
   "outputs": [
    {
     "name": "stdout",
     "output_type": "stream",
     "text": [
      "Filename: attrib_test.txt\n",
      "Opening Mode: r\n",
      "Close?: True\n"
     ]
    }
   ],
   "source": [
    "myfile = open(\"attrib_test.txt\", \"r\")\n",
    "myfile.close()\n",
    "\n",
    "# Name Attribute\n",
    "print(\"Filename:\", myfile.name)\n",
    "\n",
    "# Mode Attribute\n",
    "print(\"Opening Mode:\", myfile.mode)\n",
    "\n",
    "# Closed Attribute\n",
    "print(\"Close?:\", myfile.closed)"
   ]
  },
  {
   "cell_type": "markdown",
   "id": "34667c0c-c782-415b-adcc-9d10ca29b2ca",
   "metadata": {},
   "source": [
    "# File operations"
   ]
  },
  {
   "cell_type": "markdown",
   "id": "90c33614-ddb9-440d-a982-f32f872ee1d3",
   "metadata": {},
   "source": [
    "### 1. Open file"
   ]
  },
  {
   "cell_type": "code",
   "execution_count": 16,
   "id": "22f74006-ff58-4554-b395-494501030694",
   "metadata": {},
   "outputs": [],
   "source": [
    "myfile = open(\"Hello World.txt\")"
   ]
  },
  {
   "cell_type": "markdown",
   "id": "06cd4062-726e-45a6-b315-62d446339fdc",
   "metadata": {},
   "source": [
    "### 2. Read"
   ]
  },
  {
   "cell_type": "markdown",
   "id": "e31cb747-6a18-44aa-b279-60122b9e624f",
   "metadata": {},
   "source": [
    "#### 2.1 Read()"
   ]
  },
  {
   "cell_type": "code",
   "execution_count": 19,
   "id": "9e7ad5b1-1499-4fc3-96cd-9862b6548d58",
   "metadata": {},
   "outputs": [
    {
     "name": "stdout",
     "output_type": "stream",
     "text": [
      "Hello, welcome to Python!\n",
      "It's fun and easy.\n",
      "Let's learn Python!\n"
     ]
    }
   ],
   "source": [
    "# If not specify, file will be open in read mode by default \n",
    "myfile = open(\"Hello World.txt\")\n",
    "print(myfile.read())\n",
    "myfile.close()"
   ]
  },
  {
   "cell_type": "markdown",
   "id": "0b6a2191-75c4-4762-b155-285e60d74c0f",
   "metadata": {},
   "source": [
    "#### 2.2 Readline()"
   ]
  },
  {
   "cell_type": "code",
   "execution_count": 52,
   "id": "dd5a6282-b6d0-4d24-8ab2-98aa9a8f9077",
   "metadata": {},
   "outputs": [
    {
     "name": "stdout",
     "output_type": "stream",
     "text": [
      "Hello, welcome to Python!\n",
      "\n"
     ]
    }
   ],
   "source": [
    "myfile = open(\"Hello World.txt\", \"r\")\n",
    "print(myfile.readline())\n",
    "myfile.close()"
   ]
  },
  {
   "cell_type": "code",
   "execution_count": 50,
   "id": "17e80a1e-3638-4521-b0b8-a9347da70021",
   "metadata": {},
   "outputs": [
    {
     "name": "stdout",
     "output_type": "stream",
     "text": [
      "Hello, welcome \n"
     ]
    }
   ],
   "source": [
    "myfile = open(\"Hello World.txt\", \"r\")\n",
    "print(myfile.readline(15))\n",
    "myfile.close()"
   ]
  },
  {
   "cell_type": "markdown",
   "id": "98d21fb6-1d2e-46e8-b588-a496f1c4a284",
   "metadata": {},
   "source": [
    "#### 2.3 Readlines()"
   ]
  },
  {
   "cell_type": "code",
   "execution_count": 54,
   "id": "49167cfc-31d6-44d2-b3d3-2b933a5c520a",
   "metadata": {},
   "outputs": [
    {
     "name": "stdout",
     "output_type": "stream",
     "text": [
      "['Hello, welcome to Python!\\n', \"It's fun and easy.\\n\", \"Let's learn Python!\"]\n"
     ]
    }
   ],
   "source": [
    "myfiles = open(\"Hello World.txt\", \"r\")\n",
    "print(myfiles.readlines())"
   ]
  },
  {
   "cell_type": "markdown",
   "id": "23eabb76-4e62-4491-99c9-881696d4c9c3",
   "metadata": {},
   "source": [
    "##### 2.3.1 Readline() + While"
   ]
  },
  {
   "cell_type": "code",
   "execution_count": 58,
   "id": "fc1ebe86-a09b-4ef4-99ab-10a538c0064f",
   "metadata": {},
   "outputs": [
    {
     "name": "stdout",
     "output_type": "stream",
     "text": [
      "Hello, welcome to Python!\n",
      "\n",
      "It's fun and easy.\n",
      "\n",
      "Let's learn Python!\n"
     ]
    }
   ],
   "source": [
    "import time\n",
    "myfile = open(\"Hello World.txt\", \"r\")\n",
    "line = myfile.readline()\n",
    "\n",
    "while line:\n",
    "    print(line)\n",
    "    line = myfile.readline()\n",
    "    time.sleep(2)\n",
    "\n",
    "myfile.close()"
   ]
  },
  {
   "cell_type": "markdown",
   "id": "d7116570-2cef-4f1e-a0f7-e6c8d637c7da",
   "metadata": {},
   "source": [
    "##### 2.3.2 Readline() + With"
   ]
  },
  {
   "cell_type": "code",
   "execution_count": 60,
   "id": "65790a9d-b446-41b5-a4ee-c5e86d79622a",
   "metadata": {},
   "outputs": [
    {
     "name": "stdout",
     "output_type": "stream",
     "text": [
      "Hello, welcome to Python!\n",
      "\n",
      "It's fun and easy.\n",
      "\n",
      "Let's learn Python!\n"
     ]
    }
   ],
   "source": [
    "import time\n",
    "\n",
    "with open (\"Hello World.txt\", \"r\") as myfile:\n",
    "    for line in myfile:\n",
    "        print(line)\n",
    "        time.sleep(2)\n",
    "\n",
    "# flie is automatically close by with st"
   ]
  },
  {
   "cell_type": "markdown",
   "id": "70c79201-6883-4347-831c-1b729571497f",
   "metadata": {},
   "source": [
    "### 3. Write"
   ]
  },
  {
   "cell_type": "markdown",
   "id": "2a4bdcbb-6119-4da6-b2ef-9a3103873e58",
   "metadata": {},
   "source": [
    "#### 3.1 Write()"
   ]
  },
  {
   "cell_type": "code",
   "execution_count": 65,
   "id": "302448d6-4795-4a48-9670-44f61a019ad7",
   "metadata": {},
   "outputs": [],
   "source": [
    "myfile = open(\"Notebook.txt\", \"w\")\n",
    "myfile.write(\"Today, I'm gonna learn how to handle file.\\nIt's very fun!\")\n",
    "myfile.close()"
   ]
  },
  {
   "cell_type": "markdown",
   "id": "9805ebbf-9c53-4c79-a403-b11f65cb05a6",
   "metadata": {},
   "source": [
    "#### 3.2 Writelines()"
   ]
  },
  {
   "cell_type": "code",
   "execution_count": 67,
   "id": "1010ae2e-53bb-4c4a-9bcb-2fc78fa7c45c",
   "metadata": {},
   "outputs": [],
   "source": [
    "myfile = open(\"Namesbyline.txt\", \"w\")\n",
    "namelist = [\"Alice\\n\", \"Bob\\n\", \"Cindy\\n\"]\n",
    "myfile.writelines(namelist)\n",
    "myfile.close()\n",
    "\n",
    "#Check C:\\Users\\This\\python 102\\Namesbyline.txt after run"
   ]
  },
  {
   "cell_type": "markdown",
   "id": "6daff4b5-c37a-42c4-ab1a-e433d5cc4677",
   "metadata": {},
   "source": [
    "### 3.3 Append mode"
   ]
  },
  {
   "cell_type": "code",
   "execution_count": 68,
   "id": "45b2f306-a495-432a-afc6-3dab2817b5b4",
   "metadata": {},
   "outputs": [],
   "source": [
    "myfile = open(\"Namesbyline.txt\", \"a\")\n",
    "namelist = [\"David\\n\", \"Erika\\n\", \"Frank\\n\"]\n",
    "myfile.writelines(namelist)\n",
    "myfile.close()\n",
    "\n",
    "#Check C:\\Users\\This\\python 102\\Namesbyline.txt after run"
   ]
  },
  {
   "cell_type": "markdown",
   "id": "ef365634-09cb-490b-95a8-8b0cdf182e6b",
   "metadata": {},
   "source": [
    "### 4. Close()"
   ]
  },
  {
   "cell_type": "markdown",
   "id": "719028e5-7ef1-418f-9f01-2f5ed01f3c72",
   "metadata": {},
   "source": [
    "###### use to prevent data from possible damages"
   ]
  },
  {
   "cell_type": "code",
   "execution_count": 84,
   "id": "b6b96a44-6034-4700-a93e-0302685e0639",
   "metadata": {},
   "outputs": [
    {
     "name": "stdout",
     "output_type": "stream",
     "text": [
      "This is how you use close function.\n"
     ]
    }
   ],
   "source": [
    "myfile = open(\"closedemo.txt\", \"w+\")\n",
    "myfile.write(\"This is how you use close function.\")\n",
    "myfile.seek(0)\n",
    "print(myfile.read())\n",
    "myfile.close()"
   ]
  },
  {
   "cell_type": "code",
   "execution_count": 88,
   "id": "b98c6086-db13-421e-99f9-b0106a76cbe3",
   "metadata": {},
   "outputs": [
    {
     "name": "stdout",
     "output_type": "stream",
     "text": [
      "This is how you use close function.\n"
     ]
    }
   ],
   "source": [
    "# with statement can be use in stead of close\n",
    "with open(\"closedemo.txt\") as myfile:\n",
    "    print(myfile.read())"
   ]
  },
  {
   "cell_type": "code",
   "execution_count": null,
   "id": "d135ce04-6c7e-4f3c-b1d1-a27b140fa2be",
   "metadata": {},
   "outputs": [],
   "source": []
  }
 ],
 "metadata": {
  "kernelspec": {
   "display_name": "Python 3 (ipykernel)",
   "language": "python",
   "name": "python3"
  },
  "language_info": {
   "codemirror_mode": {
    "name": "ipython",
    "version": 3
   },
   "file_extension": ".py",
   "mimetype": "text/x-python",
   "name": "python",
   "nbconvert_exporter": "python",
   "pygments_lexer": "ipython3",
   "version": "3.13.5"
  }
 },
 "nbformat": 4,
 "nbformat_minor": 5
}
