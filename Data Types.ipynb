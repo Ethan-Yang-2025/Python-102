{
 "cells": [
  {
   "cell_type": "markdown",
   "id": "98490bfa-c159-4466-8782-16b3a864f846",
   "metadata": {},
   "source": [
    "# Boolean"
   ]
  },
  {
   "cell_type": "code",
   "execution_count": null,
   "id": "506caa5f-e15d-4f53-9f91-1078914de75f",
   "metadata": {},
   "outputs": [],
   "source": [
    "12>4"
   ]
  },
  {
   "cell_type": "code",
   "execution_count": null,
   "id": "2cfc7339-ec7c-46bf-bfff-7032eff67e67",
   "metadata": {},
   "outputs": [],
   "source": [
    "a = '12345bcd'\n",
    "a.isdigit()"
   ]
  },
  {
   "cell_type": "markdown",
   "id": "a27eb9c4-ec83-4d39-b589-5b7a4541113f",
   "metadata": {},
   "source": [
    "# String"
   ]
  },
  {
   "cell_type": "code",
   "execution_count": null,
   "id": "2dc85af4-34c6-43a2-8392-abff4fcab516",
   "metadata": {},
   "outputs": [],
   "source": [
    "'Hello World!'"
   ]
  },
  {
   "cell_type": "code",
   "execution_count": null,
   "id": "102dffc5-2117-46f6-bc17-fc91ef92a05e",
   "metadata": {},
   "outputs": [],
   "source": [
    "# How to print \"\" inside the sentence\n",
    "'Hey,\\\"I miss U\\\"'"
   ]
  },
  {
   "cell_type": "markdown",
   "id": "ca202620-e588-48f2-96ed-b1a9ea0c838b",
   "metadata": {},
   "source": [
    "# List"
   ]
  },
  {
   "cell_type": "code",
   "execution_count": 6,
   "id": "acea6e05-f63b-4c06-a784-17d4978d40a4",
   "metadata": {},
   "outputs": [
    {
     "data": {
      "text/plain": [
       "('Monday', 'Thursday')"
      ]
     },
     "execution_count": 6,
     "metadata": {},
     "output_type": "execute_result"
    }
   ],
   "source": [
    "# Indexing\n",
    "weekday = [\"Monday\" , \"Tuesday\", \"Wednesday\", \"Thursday\", \"Friday\"]\n",
    "weekday[0], weekday[3]"
   ]
  },
  {
   "cell_type": "code",
   "execution_count": null,
   "id": "9f4ef076-f18c-4758-b29e-cbcf8a189d80",
   "metadata": {},
   "outputs": [],
   "source": [
    "# Nested Indexing\n",
    "weekday_N = [\"Monday\", [1, 2, 3, 4, 5]]\n",
    "weekday_N[1], weekday_N[1][2]"
   ]
  },
  {
   "cell_type": "code",
   "execution_count": null,
   "id": "85491265-b850-42dd-b542-bca8beaead1c",
   "metadata": {},
   "outputs": [],
   "source": [
    "# Negative Index\n",
    "weekday = [\"Monday\" , \"Tuesday\", \"Wednesday\", \"Thursday\", \"Friday\"]\n",
    "weekday[-1], weekday[-5]"
   ]
  },
  {
   "cell_type": "markdown",
   "id": "2dd402b2-cd01-42a8-80f9-1b633298ff51",
   "metadata": {},
   "source": [
    "### List Slicing"
   ]
  },
  {
   "cell_type": "code",
   "execution_count": null,
   "id": "30bc73af-d266-4405-8406-c3457286f379",
   "metadata": {},
   "outputs": [],
   "source": [
    "# Index everyday\n",
    "everyday = [\"Sunday\",\"Monday\", \"Tuesday\", \"Wednesday\", \"Thursday\", \"Friday\", \"Saturday\"]"
   ]
  },
  {
   "cell_type": "code",
   "execution_count": null,
   "id": "304c7b8a-1373-4835-b287-d2c8d77fc866",
   "metadata": {},
   "outputs": [],
   "source": [
    "# slice 1st element - 6th element\n",
    "everyday[0:5]"
   ]
  },
  {
   "cell_type": "code",
   "execution_count": null,
   "id": "ae389afd-1bd9-4d51-ac4e-0e02d2a66819",
   "metadata": {},
   "outputs": [],
   "source": [
    "# slice 5th element - last element\n",
    "everyday[4:]"
   ]
  },
  {
   "cell_type": "code",
   "execution_count": null,
   "id": "18d3aad4-a7d8-4370-a765-ddc4acb5b107",
   "metadata": {},
   "outputs": [],
   "source": [
    "# slice penultimate element - 1st element\n",
    "everyday[:-2]"
   ]
  },
  {
   "cell_type": "code",
   "execution_count": null,
   "id": "41339ea2-2a79-4407-b095-7b420e45601d",
   "metadata": {},
   "outputs": [],
   "source": [
    "# slice all element\n",
    "everyday[:]"
   ]
  },
  {
   "cell_type": "markdown",
   "id": "917ff972-87d3-46a4-922b-0970aa50349d",
   "metadata": {},
   "source": [
    "### Adding Elements to a list"
   ]
  },
  {
   "cell_type": "code",
   "execution_count": 18,
   "id": "32dc3005-47aa-431d-ae72-d76629ee1613",
   "metadata": {},
   "outputs": [
    {
     "name": "stdout",
     "output_type": "stream",
     "text": [
      "[10, 20, 30, 40, 50, 60]\n"
     ]
    }
   ],
   "source": [
    "# add 1 element\n",
    "numbers = [10, 20, 30, 40, 50]\n",
    "numbers.append(60)\n",
    "print(numbers)"
   ]
  },
  {
   "cell_type": "code",
   "execution_count": 19,
   "id": "936cbbf0-a805-48a3-87af-46f78061c4ce",
   "metadata": {},
   "outputs": [
    {
     "name": "stdout",
     "output_type": "stream",
     "text": [
      "[10, 20, 30, 40, 50, 60, 70, 80]\n"
     ]
    }
   ],
   "source": [
    "# add 2 or more elements\n",
    "numbers = [10, 20, 30, 40, 50]\n",
    "numbers.extend([60, 70, 80])\n",
    "print(numbers)"
   ]
  },
  {
   "cell_type": "code",
   "execution_count": 20,
   "id": "e9b5652a-c713-431a-8d06-a77a44a2f8bf",
   "metadata": {},
   "outputs": [
    {
     "name": "stdout",
     "output_type": "stream",
     "text": [
      "[1, 7, 2, 3, 4]\n"
     ]
    }
   ],
   "source": [
    "# insert 1 element\n",
    "numbers = [1, 2, 3, 4]\n",
    "numbers.insert(1, 7)\n",
    "print(numbers)"
   ]
  },
  {
   "cell_type": "code",
   "execution_count": 21,
   "id": "b92e64ab-230b-4f00-8d74-4789793fefcb",
   "metadata": {},
   "outputs": [
    {
     "name": "stdout",
     "output_type": "stream",
     "text": [
      "[1, 2, 3, 'A', 'B', 'C', 4]\n"
     ]
    }
   ],
   "source": [
    "# insert 2 or more element\n",
    "numbers = [1, 2, 3, 4]\n",
    "# insert between 2nd and 3rd element\n",
    "numbers[3:3] = [\"A\", \"B\", \"C\"]\n",
    "print(numbers)"
   ]
  },
  {
   "cell_type": "markdown",
   "id": "5955cbf6-066c-4e14-a938-61ccb6fc32dc",
   "metadata": {},
   "source": [
    "### Changing Elements of a list"
   ]
  },
  {
   "cell_type": "code",
   "execution_count": 22,
   "id": "79158c31-2e3c-4c6e-8c07-129db026bbcf",
   "metadata": {},
   "outputs": [
    {
     "name": "stdout",
     "output_type": "stream",
     "text": [
      "['D', 2, 3, 4, 5]\n"
     ]
    }
   ],
   "source": [
    "# replace 1 element\n",
    "numbers = [1, 2, 3, 4, 5]\n",
    "numbers[0] = \"D\"\n",
    "print(numbers)"
   ]
  },
  {
   "cell_type": "code",
   "execution_count": 23,
   "id": "028cf402-0cda-4145-b4ee-7806226d38fc",
   "metadata": {},
   "outputs": [
    {
     "name": "stdout",
     "output_type": "stream",
     "text": [
      "[1, 2, 'D', 'E', 5]\n"
     ]
    }
   ],
   "source": [
    "# replace 2 or more elements\n",
    "numbers = [1, 2, 3, 4, 5]\n",
    "# replace 2nd-3rd element (3-4) with D and E\n",
    "numbers[2:4] = [\"D\", \"E\"]\n",
    "print(numbers)"
   ]
  },
  {
   "cell_type": "markdown",
   "id": "86d7f9d2-8502-420e-b780-e36b151d573e",
   "metadata": {},
   "source": [
    "### Combline 2 lists"
   ]
  },
  {
   "cell_type": "code",
   "execution_count": 3,
   "id": "dd2920d8-a7ae-436b-8469-f310a5896a05",
   "metadata": {},
   "outputs": [
    {
     "name": "stdout",
     "output_type": "stream",
     "text": [
      "['Monday', 'Tuesday', 'Wednesday', 'Thursday', 'Friday', 'Sunday', 'Saturday']\n"
     ]
    }
   ],
   "source": [
    "# method 1\n",
    "workdays = [\"Monday\", \"Tuesday\", \"Wednesday\", \"Thursday\", \"Friday\"]\n",
    "holidays = [\"Sunday\", \"Saturday\"]\n",
    "week = workdays + holidays\n",
    "print(week)"
   ]
  },
  {
   "cell_type": "code",
   "execution_count": 5,
   "id": "0a7df1d2-c771-4dd3-9831-bbd0cb556e51",
   "metadata": {},
   "outputs": [
    {
     "name": "stdout",
     "output_type": "stream",
     "text": [
      "['Monday', 'Tuesday', 'Wednesday', 'Thursday', 'Friday', 'Sunday', 'Saturday']\n"
     ]
    }
   ],
   "source": [
    "# method 2\n",
    "workdays = [\"Monday\", \"Tuesday\", \"Wednesday\", \"Thursday\", \"Friday\"]\n",
    "holidays = [\"Sunday\", \"Saturday\"]\n",
    "workdays += holidays\n",
    "print(workdays)"
   ]
  },
  {
   "cell_type": "markdown",
   "id": "f2af7d29-8ae7-4683-baa4-e6c407444146",
   "metadata": {},
   "source": [
    "### Repeating list"
   ]
  },
  {
   "cell_type": "code",
   "execution_count": 24,
   "id": "e2edf841-0032-44f2-b040-eaa1a84eee3d",
   "metadata": {},
   "outputs": [
    {
     "name": "stdout",
     "output_type": "stream",
     "text": [
      "[1, 2, 3, 4, 5, 1, 2, 3, 4, 5, 1, 2, 3, 4, 5]\n"
     ]
    }
   ],
   "source": [
    "numbers = [1, 2, 3, 4, 5]*3\n",
    "print(numbers)"
   ]
  },
  {
   "cell_type": "markdown",
   "id": "82444e31-0d9c-4711-8c0e-5e4e38f91ce1",
   "metadata": {},
   "source": [
    "### Delete Elements from a list"
   ]
  },
  {
   "cell_type": "code",
   "execution_count": 10,
   "id": "3f935772-26ce-4f07-abe8-be56bca117b9",
   "metadata": {},
   "outputs": [
    {
     "name": "stdout",
     "output_type": "stream",
     "text": [
      "['A', 'B', 'C', 'E']\n"
     ]
    }
   ],
   "source": [
    "# method 1: list.remove(specific element)\n",
    "letters = [\"A\", \"B\", \"C\", \"D\", \"E\"]\n",
    "letters.remove(\"D\")\n",
    "print(letters)"
   ]
  },
  {
   "cell_type": "code",
   "execution_count": 11,
   "id": "639eb9d4-ddd5-480c-8541-07ccb37e3e39",
   "metadata": {},
   "outputs": [
    {
     "name": "stdout",
     "output_type": "stream",
     "text": [
      "['B', 'C', 'D', 'E']\n"
     ]
    }
   ],
   "source": [
    "# method 2: list.pop(specific index)\n",
    "letters = [\"A\", \"B\", \"C\", \"D\", \"E\"]\n",
    "letters.pop(0)\n",
    "print(letters)"
   ]
  },
  {
   "cell_type": "code",
   "execution_count": 12,
   "id": "2ee1de7d-7033-4888-8363-c89f16f583d5",
   "metadata": {},
   "outputs": [
    {
     "name": "stdout",
     "output_type": "stream",
     "text": [
      "['A', 'C', 'D', 'E']\n"
     ]
    }
   ],
   "source": [
    "# method 3.1 del list[specific index]\n",
    "letters = [\"A\", \"B\", \"C\", \"D\", \"E\"]\n",
    "del letters[1]\n",
    "print(letters)"
   ]
  },
  {
   "cell_type": "code",
   "execution_count": 13,
   "id": "410d0395-9bc6-42fa-bfd6-b6ccfb242499",
   "metadata": {},
   "outputs": [
    {
     "name": "stdout",
     "output_type": "stream",
     "text": [
      "['A', 'D', 'E']\n"
     ]
    }
   ],
   "source": [
    "# method 3.2 del list[from index : to index]\n",
    "letters = [\"A\", \"B\", \"C\", \"D\", \"E\"]\n",
    "del letters[1:3]\n",
    "print(letters)"
   ]
  },
  {
   "cell_type": "markdown",
   "id": "235cca77-1fd3-484e-9297-1f0d059d813a",
   "metadata": {},
   "source": [
    "### Clear Elements from a list"
   ]
  },
  {
   "cell_type": "code",
   "execution_count": 14,
   "id": "3ba741d2-dcbb-4125-b461-728f74075a57",
   "metadata": {},
   "outputs": [
    {
     "name": "stdout",
     "output_type": "stream",
     "text": [
      "[]\n"
     ]
    }
   ],
   "source": [
    "# method 1: list.clear()\n",
    "letters = [\"A\", \"B\", \"C\", \"D\", \"E\"]\n",
    "letters.clear()\n",
    "print(letters)"
   ]
  },
  {
   "cell_type": "code",
   "execution_count": 16,
   "id": "b3bd633c-dc11-4ddb-a492-e543946a33ed",
   "metadata": {},
   "outputs": [
    {
     "name": "stdout",
     "output_type": "stream",
     "text": [
      "[]\n"
     ]
    }
   ],
   "source": [
    "# method 2: empty space\n",
    "letters = [\"A\", \"B\", \"C\", \"D\", \"E\"]\n",
    "letters[:] = []\n",
    "print(letters)"
   ]
  },
  {
   "cell_type": "markdown",
   "id": "fea86287-c24f-433e-a36d-f6c628b9e5cb",
   "metadata": {},
   "source": [
    "### Checking membership in a list"
   ]
  },
  {
   "cell_type": "code",
   "execution_count": 25,
   "id": "23ef09de-5d84-46da-a6c0-b473763e6374",
   "metadata": {},
   "outputs": [
    {
     "data": {
      "text/plain": [
       "True"
      ]
     },
     "execution_count": 25,
     "metadata": {},
     "output_type": "execute_result"
    }
   ],
   "source": [
    "# in\n",
    "numbers = [1, 2, 3, 4, 5]\n",
    "1 in numbers"
   ]
  },
  {
   "cell_type": "code",
   "execution_count": 26,
   "id": "185974bc-2970-4a9b-aaa7-5178d66c9584",
   "metadata": {},
   "outputs": [
    {
     "data": {
      "text/plain": [
       "False"
      ]
     },
     "execution_count": 26,
     "metadata": {},
     "output_type": "execute_result"
    }
   ],
   "source": [
    "6 in numbers"
   ]
  },
  {
   "cell_type": "code",
   "execution_count": 27,
   "id": "14015f64-fcc9-4573-8f9b-8e0920a94cea",
   "metadata": {},
   "outputs": [
    {
     "data": {
      "text/plain": [
       "True"
      ]
     },
     "execution_count": 27,
     "metadata": {},
     "output_type": "execute_result"
    }
   ],
   "source": [
    "# not in\n",
    "numbers = [1, 2, 3, 4, 5]\n",
    "8 not in numbers"
   ]
  },
  {
   "cell_type": "code",
   "execution_count": 28,
   "id": "a17eed12-9351-455c-b332-8146d13b8c5b",
   "metadata": {},
   "outputs": [
    {
     "data": {
      "text/plain": [
       "False"
      ]
     },
     "execution_count": 28,
     "metadata": {},
     "output_type": "execute_result"
    }
   ],
   "source": [
    "2 not in numbers"
   ]
  },
  {
   "cell_type": "markdown",
   "id": "15a19d79-6d67-40f0-9ab4-3af94a0543ab",
   "metadata": {},
   "source": [
    "### Other functions\n",
    "##### Can be use for mixed data types"
   ]
  },
  {
   "cell_type": "code",
   "execution_count": 3,
   "id": "5a3ad983-c265-4f9f-8aca-23e2f4af9cac",
   "metadata": {},
   "outputs": [
    {
     "data": {
      "text/plain": [
       "2"
      ]
     },
     "execution_count": 3,
     "metadata": {},
     "output_type": "execute_result"
    }
   ],
   "source": [
    "# count how many times an element occurs in the list\n",
    "something = [1, 2, 3, \"A\", 5, \"B\", 1]\n",
    "something.count(1)"
   ]
  },
  {
   "cell_type": "code",
   "execution_count": 4,
   "id": "2bce9467-b7ff-4eb9-b150-97efd5e94cc2",
   "metadata": {
    "scrolled": true
   },
   "outputs": [
    {
     "data": {
      "text/plain": [
       "7"
      ]
     },
     "execution_count": 4,
     "metadata": {},
     "output_type": "execute_result"
    }
   ],
   "source": [
    "# returns how many elements in the list\n",
    "something = [1, 2, 3, \"A\", 5, \"B\", 1]\n",
    "len(something)"
   ]
  },
  {
   "cell_type": "markdown",
   "id": "eb7235b4-a359-4241-aa8c-80d1b48a3f47",
   "metadata": {},
   "source": [
    "##### Only works with single datatypes"
   ]
  },
  {
   "cell_type": "code",
   "execution_count": 10,
   "id": "5f79e5b0-7e9c-488b-acb0-53d534ca8bd1",
   "metadata": {},
   "outputs": [
    {
     "name": "stdout",
     "output_type": "stream",
     "text": [
      "[1, 2, 3, 4, 5]\n"
     ]
    }
   ],
   "source": [
    "# sort elements in ascending order\n",
    "numbers = [1, 5, 2, 4, 3]\n",
    "numbers.sort()\n",
    "print(numbers)"
   ]
  },
  {
   "cell_type": "code",
   "execution_count": 13,
   "id": "5439f2a1-b160-49b5-be38-344ca5be4a22",
   "metadata": {},
   "outputs": [
    {
     "name": "stdout",
     "output_type": "stream",
     "text": [
      "['A', 'B', 'C', 'D', 'E']\n"
     ]
    }
   ],
   "source": [
    "letters = [\"B\", \"A\", \"E\", \"D\", \"C\"]\n",
    "letters.sort()\n",
    "print(letters)"
   ]
  },
  {
   "cell_type": "code",
   "execution_count": 15,
   "id": "b82f25c4-fd85-4d73-9417-e7dcd8e40296",
   "metadata": {},
   "outputs": [
    {
     "name": "stdout",
     "output_type": "stream",
     "text": [
      "[5, 4, 3, 2, 1]\n"
     ]
    }
   ],
   "source": [
    "# reverse elements in desending order\n",
    "numbers = [1, 5, 2, 4, 3]\n",
    "numbers.reverse()\n",
    "print(numbers)"
   ]
  },
  {
   "cell_type": "code",
   "execution_count": 16,
   "id": "c85f3b41-537e-4ca6-a27e-7c52b5a39f62",
   "metadata": {},
   "outputs": [
    {
     "data": {
      "text/plain": [
       "5"
      ]
     },
     "execution_count": 16,
     "metadata": {},
     "output_type": "execute_result"
    }
   ],
   "source": [
    "# returns the largest element in the list\n",
    "numbers = [1, 5, 2, 4, 3]\n",
    "max(numbers)"
   ]
  },
  {
   "cell_type": "code",
   "execution_count": 17,
   "id": "d0280643-fbbf-4973-8613-94a9de2c16ec",
   "metadata": {},
   "outputs": [
    {
     "data": {
      "text/plain": [
       "'E'"
      ]
     },
     "execution_count": 17,
     "metadata": {},
     "output_type": "execute_result"
    }
   ],
   "source": [
    "letters = [\"B\", \"A\", \"E\", \"D\", \"C\"]\n",
    "max(letters)"
   ]
  },
  {
   "cell_type": "markdown",
   "id": "f00e27c2-7a30-4671-93a9-191049bdb125",
   "metadata": {},
   "source": [
    "##### Only works with numbers"
   ]
  },
  {
   "cell_type": "code",
   "execution_count": 20,
   "id": "9aa24d0f-751c-457a-a756-c1227be9c19e",
   "metadata": {},
   "outputs": [
    {
     "data": {
      "text/plain": [
       "16.901"
      ]
     },
     "execution_count": 20,
     "metadata": {},
     "output_type": "execute_result"
    }
   ],
   "source": [
    "# returns summation of all elements in the list\n",
    "numbers = [1.002, 5.684, 2.515, 4.7, 3]\n",
    "sum(numbers)"
   ]
  },
  {
   "cell_type": "markdown",
   "id": "f9881d4c-82db-4110-8333-41b61bee3d2a",
   "metadata": {},
   "source": [
    "# Tuple\n",
    "### an immutable list"
   ]
  },
  {
   "cell_type": "code",
   "execution_count": 4,
   "id": "b69d2f83-0554-4d5d-a929-9eb555d25f1c",
   "metadata": {},
   "outputs": [
    {
     "name": "stdout",
     "output_type": "stream",
     "text": [
      "(10, 'thumb', 4.78, [1, 2, 3])\n"
     ]
    }
   ],
   "source": [
    "# indexing\n",
    "something = (10, \"thumb\", 4.78, [1, 2, 3])\n",
    "print(something)"
   ]
  },
  {
   "cell_type": "code",
   "execution_count": 3,
   "id": "f6cc85b7-bb89-49fc-9a02-76b69342f967",
   "metadata": {},
   "outputs": [
    {
     "ename": "AttributeError",
     "evalue": "'tuple' object has no attribute 'append'",
     "output_type": "error",
     "traceback": [
      "\u001b[31m---------------------------------------------------------------------------\u001b[39m",
      "\u001b[31mAttributeError\u001b[39m                            Traceback (most recent call last)",
      "\u001b[36mCell\u001b[39m\u001b[36m \u001b[39m\u001b[32mIn[3]\u001b[39m\u001b[32m, line 1\u001b[39m\n\u001b[32m----> \u001b[39m\u001b[32m1\u001b[39m something.append(\u001b[32m20\u001b[39m)\n\u001b[32m      2\u001b[39m \u001b[38;5;28mprint\u001b[39m(something)\n",
      "\u001b[31mAttributeError\u001b[39m: 'tuple' object has no attribute 'append'"
     ]
    }
   ],
   "source": [
    "# Cannot add, delete, sort Tuple elements\n",
    "something.append(20)\n",
    "print(something)"
   ]
  },
  {
   "cell_type": "markdown",
   "id": "5885990d-9e3f-4834-9755-0cc4716403d3",
   "metadata": {},
   "source": [
    "# Set\n",
    "### a list that contain unique elements (no repeat)"
   ]
  },
  {
   "cell_type": "code",
   "execution_count": 34,
   "id": "be1a2f34-3ca7-4867-97a5-d9fc8c2828ce",
   "metadata": {},
   "outputs": [
    {
     "name": "stdout",
     "output_type": "stream",
     "text": [
      "{1, 2, 3, 4, 5}\n"
     ]
    }
   ],
   "source": [
    "# indexing\n",
    "numbers = {1, 2, 3, 4, 5, 4}\n",
    "print(numbers)"
   ]
  },
  {
   "cell_type": "markdown",
   "id": "7a321b51-d9fc-4647-8ba1-5feabe9ecfa6",
   "metadata": {},
   "source": [
    "### Add element to a list"
   ]
  },
  {
   "cell_type": "code",
   "execution_count": 26,
   "id": "d92adc93-5ed7-4ebd-88e1-d1c1f0b089b9",
   "metadata": {},
   "outputs": [
    {
     "name": "stdout",
     "output_type": "stream",
     "text": [
      "{1, 2, 3, 4, 5, 7}\n"
     ]
    }
   ],
   "source": [
    "numbers = {1, 2, 3, 4, 5}\n",
    "numbers.add(7)\n",
    "print(numbers)"
   ]
  },
  {
   "cell_type": "markdown",
   "id": "ac1c2f42-d138-4615-9f2f-06dc15651ffc",
   "metadata": {},
   "source": [
    "### Update element to the set"
   ]
  },
  {
   "cell_type": "code",
   "execution_count": 29,
   "id": "e235a1c6-ef92-4cab-8bec-2cc48e72551f",
   "metadata": {},
   "outputs": [
    {
     "name": "stdout",
     "output_type": "stream",
     "text": [
      "{1, 2, 3, 4, 5, 6}\n"
     ]
    }
   ],
   "source": [
    "numbers = {2, 4, 6}\n",
    "numbers.update([1, 3, 5])\n",
    "print(numbers)"
   ]
  },
  {
   "cell_type": "markdown",
   "id": "f28bf47d-6cce-4109-aa08-02619556c3ef",
   "metadata": {},
   "source": [
    "### Remove element fron the set"
   ]
  },
  {
   "cell_type": "code",
   "execution_count": 32,
   "id": "9f2d0ff5-ba2b-4a21-88b4-892b54794398",
   "metadata": {},
   "outputs": [
    {
     "name": "stdout",
     "output_type": "stream",
     "text": [
      "{1, 3, 4, 5}\n"
     ]
    }
   ],
   "source": [
    "numbers = {1, 2, 3, 4, 5}\n",
    "numbers.remove(2)\n",
    "print(numbers)"
   ]
  },
  {
   "cell_type": "markdown",
   "id": "fd4d1869-8ca9-4176-ba77-bec981a9f413",
   "metadata": {},
   "source": [
    "### Clear set"
   ]
  },
  {
   "cell_type": "code",
   "execution_count": 36,
   "id": "611d1a82-daa6-4e64-bc15-eb9d8ba0a9d2",
   "metadata": {},
   "outputs": [
    {
     "name": "stdout",
     "output_type": "stream",
     "text": [
      "set()\n"
     ]
    }
   ],
   "source": [
    "numbers = {1, 2, 3, 4, 5}\n",
    "numbers.clear()\n",
    "print(numbers)"
   ]
  },
  {
   "cell_type": "markdown",
   "id": "ef6b51c4-1fbd-4ac4-b71e-0e655b552f1b",
   "metadata": {},
   "source": [
    "## Set Operators"
   ]
  },
  {
   "cell_type": "markdown",
   "id": "c9560cae-fa37-430e-af1a-21e854bace83",
   "metadata": {},
   "source": [
    "### 1. Union"
   ]
  },
  {
   "cell_type": "code",
   "execution_count": 37,
   "id": "305ee267-6e59-46ca-88fe-b275611478cc",
   "metadata": {},
   "outputs": [
    {
     "data": {
      "text/plain": [
       "{1, 2, 3, 4, 5}"
      ]
     },
     "execution_count": 37,
     "metadata": {},
     "output_type": "execute_result"
    }
   ],
   "source": [
    "dog = {1, 2, 3}\n",
    "cat = {3, 4, 5}\n",
    "\n",
    "# method 1.1\n",
    "dog.union(cat)"
   ]
  },
  {
   "cell_type": "code",
   "execution_count": 38,
   "id": "f4c71ccb-9daf-4a5e-a3ed-bfec4a59dd61",
   "metadata": {},
   "outputs": [
    {
     "data": {
      "text/plain": [
       "{1, 2, 3, 4, 5}"
      ]
     },
     "execution_count": 38,
     "metadata": {},
     "output_type": "execute_result"
    }
   ],
   "source": [
    "# method 1.2\n",
    "dog | cat"
   ]
  },
  {
   "cell_type": "markdown",
   "id": "ed24261a-5ccb-4cd4-835b-fef55862d579",
   "metadata": {},
   "source": [
    "### 2. Intersection"
   ]
  },
  {
   "cell_type": "code",
   "execution_count": 40,
   "id": "db13e6a9-4a45-494f-889c-f7f29eda57da",
   "metadata": {},
   "outputs": [
    {
     "data": {
      "text/plain": [
       "{3}"
      ]
     },
     "execution_count": 40,
     "metadata": {},
     "output_type": "execute_result"
    }
   ],
   "source": [
    "dog = {1, 2, 3}\n",
    "cat = {3, 4, 5}\n",
    "\n",
    "# method 2.1\n",
    "dog.intersection(cat)"
   ]
  },
  {
   "cell_type": "code",
   "execution_count": 44,
   "id": "35ea8457-ed44-4cf2-8d6d-b3922d34ed87",
   "metadata": {},
   "outputs": [
    {
     "data": {
      "text/plain": [
       "{3}"
      ]
     },
     "execution_count": 44,
     "metadata": {},
     "output_type": "execute_result"
    }
   ],
   "source": [
    "# method 2.2\n",
    "dog & cat"
   ]
  },
  {
   "cell_type": "markdown",
   "id": "baa2ffde-9f78-4f02-b2c9-529e1f27b182",
   "metadata": {},
   "source": [
    "### 3. Difference"
   ]
  },
  {
   "cell_type": "code",
   "execution_count": 42,
   "id": "bb76ad62-fb2c-45f7-8010-9fd10ff83fd5",
   "metadata": {},
   "outputs": [
    {
     "data": {
      "text/plain": [
       "{1, 2}"
      ]
     },
     "execution_count": 42,
     "metadata": {},
     "output_type": "execute_result"
    }
   ],
   "source": [
    "dog = {1, 2, 3}\n",
    "cat = {3, 4, 5}\n",
    "\n",
    "# method 3.1\n",
    "dog.difference(cat)"
   ]
  },
  {
   "cell_type": "code",
   "execution_count": 45,
   "id": "1fb7d4d0-2fde-4e61-82f5-702829f921bd",
   "metadata": {},
   "outputs": [
    {
     "data": {
      "text/plain": [
       "{1, 2}"
      ]
     },
     "execution_count": 45,
     "metadata": {},
     "output_type": "execute_result"
    }
   ],
   "source": [
    "dog - cat"
   ]
  },
  {
   "cell_type": "markdown",
   "id": "b23f7fa1-b541-4db2-a856-7faf93ebd34d",
   "metadata": {},
   "source": [
    "### 4. Symmetric Difference"
   ]
  },
  {
   "cell_type": "code",
   "execution_count": 48,
   "id": "3fcb9ac4-2244-41b9-8981-f5cb5da331b1",
   "metadata": {},
   "outputs": [
    {
     "data": {
      "text/plain": [
       "{1, 2, 4, 5}"
      ]
     },
     "execution_count": 48,
     "metadata": {},
     "output_type": "execute_result"
    }
   ],
   "source": [
    "dog = {1, 2, 3}\n",
    "cat = {3, 4, 5}\n",
    "\n",
    "# method 4.1\n",
    "dog.symmetric_difference(cat)"
   ]
  },
  {
   "cell_type": "code",
   "execution_count": 49,
   "id": "eaf406be-ee20-4ab8-b8fd-db9f736b9543",
   "metadata": {},
   "outputs": [
    {
     "data": {
      "text/plain": [
       "{1, 2, 4, 5}"
      ]
     },
     "execution_count": 49,
     "metadata": {},
     "output_type": "execute_result"
    }
   ],
   "source": [
    "# method 4.2\n",
    "dog ^ cat"
   ]
  },
  {
   "cell_type": "markdown",
   "id": "46aa4fc3-7cc9-4d61-878d-fed8b38b7268",
   "metadata": {},
   "source": [
    "### 5. In / Not in"
   ]
  },
  {
   "cell_type": "code",
   "execution_count": 50,
   "id": "b47bf594-5cf5-4d24-ade0-97be3a10e00e",
   "metadata": {},
   "outputs": [
    {
     "data": {
      "text/plain": [
       "True"
      ]
     },
     "execution_count": 50,
     "metadata": {},
     "output_type": "execute_result"
    }
   ],
   "source": [
    "sigma = {\"Roger\", \"Shelby\", \"Vlad\"}\n",
    "\n",
    "# 5.1 in\n",
    "\"Roger\" in sigma"
   ]
  },
  {
   "cell_type": "code",
   "execution_count": 51,
   "id": "1ab678dd-6c72-4406-aa3f-4975899beeab",
   "metadata": {},
   "outputs": [
    {
     "data": {
      "text/plain": [
       "False"
      ]
     },
     "execution_count": 51,
     "metadata": {},
     "output_type": "execute_result"
    }
   ],
   "source": [
    "\"Jamie\" in sigma"
   ]
  },
  {
   "cell_type": "code",
   "execution_count": 53,
   "id": "a7ce47a8-7201-4feb-a24c-39c659caff64",
   "metadata": {},
   "outputs": [
    {
     "data": {
      "text/plain": [
       "True"
      ]
     },
     "execution_count": 53,
     "metadata": {},
     "output_type": "execute_result"
    }
   ],
   "source": [
    "# 5.2 not in\n",
    "\"Sky\" not in sigma"
   ]
  },
  {
   "cell_type": "code",
   "execution_count": 55,
   "id": "5e291d72-13d7-4d91-9d4c-2ab2edd2466e",
   "metadata": {},
   "outputs": [
    {
     "data": {
      "text/plain": [
       "False"
      ]
     },
     "execution_count": 55,
     "metadata": {},
     "output_type": "execute_result"
    }
   ],
   "source": [
    "\"Vlad\" not in sigma"
   ]
  },
  {
   "cell_type": "markdown",
   "id": "716f0581-2d92-4f93-8f8d-519a3e3de9ef",
   "metadata": {},
   "source": [
    "## Dictionary\n",
    "### 1. collection of key:value pairs\n",
    "### 2. keys are immutable\n",
    "### 3. values can only be access via keys"
   ]
  },
  {
   "cell_type": "code",
   "execution_count": 57,
   "id": "2da1d99e-ef79-4883-9226-f6cf3987b2d2",
   "metadata": {},
   "outputs": [
    {
     "data": {
      "text/plain": [
       "'Carl'"
      ]
     },
     "execution_count": 57,
     "metadata": {},
     "output_type": "execute_result"
    }
   ],
   "source": [
    "# Indexing\n",
    "profile = {\"name\":\"Carl\", \"home\":\"Los Santos\", \"family\":\"Grove Street\", \"age\":21}\n",
    "\n",
    "# Accessing Elements Method 1\n",
    "profile[\"name\"]"
   ]
  },
  {
   "cell_type": "code",
   "execution_count": 58,
   "id": "ae1c4f3a-0666-4ce8-8f5e-e03b4f0d1720",
   "metadata": {},
   "outputs": [
    {
     "data": {
      "text/plain": [
       "21"
      ]
     },
     "execution_count": 58,
     "metadata": {},
     "output_type": "execute_result"
    }
   ],
   "source": [
    "# Accessing Elements Method 2\n",
    "profile.get(\"age\")"
   ]
  },
  {
   "cell_type": "markdown",
   "id": "d1d88048-cf38-4445-b892-08573d00533b",
   "metadata": {},
   "source": [
    "### Adding/Changing Key-Value pair to the Dictionary"
   ]
  },
  {
   "cell_type": "code",
   "execution_count": 65,
   "id": "e4a42923-a8fa-49a7-a518-e6815311ce54",
   "metadata": {},
   "outputs": [
    {
     "name": "stdout",
     "output_type": "stream",
     "text": [
      "{'name': 'Carl', 'home': 'Los Santos', 'family': 'Grove Street', 'bounty': '500$'}\n"
     ]
    }
   ],
   "source": [
    "profile = {\"name\":\"Carl\", \"home\":\"Los Santos\", \"family\":\"Grove Street\"}\n",
    "\n",
    "# When the key does not exist yet, using dict_name[key] = value  will add a new key-value pair to the dictionary\n",
    "profile[\"bounty\"] = \"500$\"\n",
    "print(profile)"
   ]
  },
  {
   "cell_type": "code",
   "execution_count": 66,
   "id": "4a2b14fc-9191-4c16-b7ca-20f513101df8",
   "metadata": {},
   "outputs": [
    {
     "name": "stdout",
     "output_type": "stream",
     "text": [
      "{'name': 'Carl', 'home': 'San Fierro', 'family': 'Grove Street'}\n"
     ]
    }
   ],
   "source": [
    "profile = {\"name\":\"Carl\", \"home\":\"Los Santos\", \"family\":\"Grove Street\"}\n",
    "\n",
    "# When the key does exist, using dict_name[key] = value  will change the value that tied to such key\n",
    "profile[\"home\"] = \"San Fierro\"\n",
    "print(profile)"
   ]
  },
  {
   "cell_type": "markdown",
   "id": "fc13a56e-a299-4c4a-82e6-f3153bc1414a",
   "metadata": {},
   "source": [
    "### Deleting Key-Value pair from the Dictionary"
   ]
  },
  {
   "cell_type": "code",
   "execution_count": 67,
   "id": "172d7e42-670c-4401-a67b-25b32dc1f59f",
   "metadata": {},
   "outputs": [
    {
     "name": "stdout",
     "output_type": "stream",
     "text": [
      "{'name': 'Carl', 'home': 'Los Santos'}\n"
     ]
    }
   ],
   "source": [
    "profile = {\"name\":\"Carl\", \"home\":\"Los Santos\", \"family\":\"Grove Street\"}\n",
    "\n",
    "profile.pop(\"family\")\n",
    "print(profile)"
   ]
  },
  {
   "cell_type": "markdown",
   "id": "21c1dbae-0e88-494e-a3b0-a41a4649b577",
   "metadata": {},
   "source": [
    "### Clear Dictionary"
   ]
  },
  {
   "cell_type": "code",
   "execution_count": 63,
   "id": "dd397c57-9fbc-466e-aeeb-df35eb432938",
   "metadata": {},
   "outputs": [
    {
     "name": "stdout",
     "output_type": "stream",
     "text": [
      "{}\n"
     ]
    }
   ],
   "source": [
    "profile = {\"name\":\"Carl\", \"home\":\"Los Santos\", \"family\":\"Grove Street\"}\n",
    "\n",
    "profile.clear()\n",
    "print(profile)"
   ]
  },
  {
   "cell_type": "markdown",
   "id": "facc346a-5e1b-47a3-9811-a4a1a1500eb5",
   "metadata": {},
   "source": [
    "### Updating Dictionary"
   ]
  },
  {
   "cell_type": "code",
   "execution_count": 72,
   "id": "78db7a30-aea8-4019-8650-9f7f8065dffd",
   "metadata": {},
   "outputs": [
    {
     "name": "stdout",
     "output_type": "stream",
     "text": [
      "{'name': 'Carl', 'home': 'San Fierro', 'family': 'Grove Street', 'bounty': '500$'}\n"
     ]
    }
   ],
   "source": [
    "profile_1 = {\"name\":\"Carl\", \"home\":\"Los Santos\", \"family\":\"Grove Street\"}\n",
    "profile_2 = {\"home\":\"San Fierro\", \"bounty\":\"500$\"}\n",
    "profile_1.update(profile_2)\n",
    "print(profile_1)"
   ]
  },
  {
   "cell_type": "markdown",
   "id": "e0c7a056-cd54-4ad5-adfa-0a860e9399c8",
   "metadata": {},
   "source": [
    "### Listing Elements in Dictionary"
   ]
  },
  {
   "cell_type": "code",
   "execution_count": 73,
   "id": "d29f9094-6df3-4aa4-b7e1-6012f554aad9",
   "metadata": {},
   "outputs": [
    {
     "data": {
      "text/plain": [
       "dict_items([('name', 'Carl'), ('home', 'Los Santos'), ('family', 'Grove Street')])"
      ]
     },
     "execution_count": 73,
     "metadata": {},
     "output_type": "execute_result"
    }
   ],
   "source": [
    "profile = {\"name\":\"Carl\", \"home\":\"Los Santos\", \"family\":\"Grove Street\"}\n",
    "profile.items()"
   ]
  },
  {
   "cell_type": "code",
   "execution_count": 74,
   "id": "ced09c7d-71db-4d36-8179-d06f97d937d3",
   "metadata": {},
   "outputs": [
    {
     "data": {
      "text/plain": [
       "dict_values(['Carl', 'Los Santos', 'Grove Street'])"
      ]
     },
     "execution_count": 74,
     "metadata": {},
     "output_type": "execute_result"
    }
   ],
   "source": [
    "profile.values()"
   ]
  },
  {
   "cell_type": "code",
   "execution_count": 75,
   "id": "4d8a4ab6-601c-48d0-8fb6-2963a38f589a",
   "metadata": {},
   "outputs": [
    {
     "data": {
      "text/plain": [
       "dict_keys(['name', 'home', 'family'])"
      ]
     },
     "execution_count": 75,
     "metadata": {},
     "output_type": "execute_result"
    }
   ],
   "source": [
    "profile.keys()"
   ]
  },
  {
   "cell_type": "markdown",
   "id": "1fe924fc-a524-424a-b297-7b67961672c2",
   "metadata": {},
   "source": [
    "### Check Membership in Dictionary\n",
    "##### Use key only"
   ]
  },
  {
   "cell_type": "code",
   "execution_count": 78,
   "id": "01869ecd-4c8f-4fd0-b09e-b87b0a8d751e",
   "metadata": {},
   "outputs": [
    {
     "data": {
      "text/plain": [
       "True"
      ]
     },
     "execution_count": 78,
     "metadata": {},
     "output_type": "execute_result"
    }
   ],
   "source": [
    "profile = {\"name\":\"Carl\", \"home\":\"Los Santos\", \"family\":\"Grove Street\"}\n",
    "\n",
    "\"name\" in profile"
   ]
  },
  {
   "cell_type": "code",
   "execution_count": 79,
   "id": "11518556-6cd1-4852-9661-fde5595b05d2",
   "metadata": {},
   "outputs": [
    {
     "data": {
      "text/plain": [
       "False"
      ]
     },
     "execution_count": 79,
     "metadata": {},
     "output_type": "execute_result"
    }
   ],
   "source": [
    "\"age\" in profile"
   ]
  },
  {
   "cell_type": "code",
   "execution_count": 81,
   "id": "fea38af1-c159-4a2b-ae7d-08564dc2c478",
   "metadata": {},
   "outputs": [
    {
     "data": {
      "text/plain": [
       "True"
      ]
     },
     "execution_count": 81,
     "metadata": {},
     "output_type": "execute_result"
    }
   ],
   "source": [
    "\"bounty\" not in profile"
   ]
  },
  {
   "cell_type": "code",
   "execution_count": 82,
   "id": "993fc353-dcba-4527-8a4e-0fd05b46715c",
   "metadata": {},
   "outputs": [
    {
     "data": {
      "text/plain": [
       "False"
      ]
     },
     "execution_count": 82,
     "metadata": {},
     "output_type": "execute_result"
    }
   ],
   "source": [
    "\"home\" not in profile"
   ]
  },
  {
   "cell_type": "markdown",
   "id": "72c478d5-2ebb-49e6-adab-b1784221f66a",
   "metadata": {},
   "source": [
    "### Other Functions"
   ]
  },
  {
   "cell_type": "code",
   "execution_count": 84,
   "id": "446aba55-596c-413d-80df-50d9f69292f0",
   "metadata": {},
   "outputs": [
    {
     "data": {
      "text/plain": [
       "3"
      ]
     },
     "execution_count": 84,
     "metadata": {},
     "output_type": "execute_result"
    }
   ],
   "source": [
    "profile = {\"name\":\"Carl\", \"home\":\"Los Santos\", \"family\":\"Grove Street\"}\n",
    "\n",
    "# Display total amount of key:value pairs \n",
    "len(profile)"
   ]
  },
  {
   "cell_type": "code",
   "execution_count": 87,
   "id": "251b3fce-c762-41c5-b489-61b9fa57acba",
   "metadata": {},
   "outputs": [
    {
     "name": "stdout",
     "output_type": "stream",
     "text": [
      "{'Move Forward Party': 151, 'Pheu Thai Party': 141, 'Phum Jai Thai Party': 69}\n"
     ]
    }
   ],
   "source": [
    "result = [(\"Move Forward Party\", 151), (\"Pheu Thai Party\", 141), (\"Phum Jai Thai Party\", 69)]\n",
    "\n",
    "# Create dictionary from a list or tuple that contain paried elements\n",
    "THelec_2023 = dict(result)\n",
    "print(THelec_2023)"
   ]
  },
  {
   "cell_type": "code",
   "execution_count": null,
   "id": "8c792c76-af12-4862-b3ed-e71d0dad9d28",
   "metadata": {},
   "outputs": [],
   "source": []
  }
 ],
 "metadata": {
  "kernelspec": {
   "display_name": "Python 3 (ipykernel)",
   "language": "python",
   "name": "python3"
  },
  "language_info": {
   "codemirror_mode": {
    "name": "ipython",
    "version": 3
   },
   "file_extension": ".py",
   "mimetype": "text/x-python",
   "name": "python",
   "nbconvert_exporter": "python",
   "pygments_lexer": "ipython3",
   "version": "3.13.5"
  }
 },
 "nbformat": 4,
 "nbformat_minor": 5
}
