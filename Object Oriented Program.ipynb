{
 "cells": [
  {
   "cell_type": "markdown",
   "id": "f727519b-f5fc-4878-98fe-3b0ee51f96d6",
   "metadata": {},
   "source": [
    "# Class and Object"
   ]
  },
  {
   "cell_type": "code",
   "execution_count": 23,
   "id": "7ffb402a-b35a-4457-a826-53a57bae8d6e",
   "metadata": {},
   "outputs": [
    {
     "name": "stdin",
     "output_type": "stream",
     "text": [
      "Press \"D\" to deposit, Press \"W\" to withdraw, Press \"E\" to Exit:  D\n",
      "Enter amount to deposit: 100\n"
     ]
    },
    {
     "name": "stdout",
     "output_type": "stream",
     "text": [
      "You have 100 in total\n"
     ]
    },
    {
     "name": "stdin",
     "output_type": "stream",
     "text": [
      "Press \"D\" to deposit, Press \"W\" to withdraw, Press \"E\" to Exit:  D\n",
      "Enter amount to deposit: 400\n"
     ]
    },
    {
     "name": "stdout",
     "output_type": "stream",
     "text": [
      "You have 500 in total\n"
     ]
    },
    {
     "name": "stdin",
     "output_type": "stream",
     "text": [
      "Press \"D\" to deposit, Press \"W\" to withdraw, Press \"E\" to Exit:  W\n",
      "Enter amount to withdraw: 300\n"
     ]
    },
    {
     "name": "stdout",
     "output_type": "stream",
     "text": [
      "You have 200 in total\n"
     ]
    },
    {
     "name": "stdin",
     "output_type": "stream",
     "text": [
      "Press \"D\" to deposit, Press \"W\" to withdraw, Press \"E\" to Exit:  W\n",
      "Enter amount to withdraw: 150\n"
     ]
    },
    {
     "name": "stdout",
     "output_type": "stream",
     "text": [
      "You have 50 in total\n"
     ]
    },
    {
     "name": "stdin",
     "output_type": "stream",
     "text": [
      "Press \"D\" to deposit, Press \"W\" to withdraw, Press \"E\" to Exit:  W\n",
      "Enter amount to withdraw: 25\n"
     ]
    },
    {
     "name": "stdout",
     "output_type": "stream",
     "text": [
      "You have 25 in total\n"
     ]
    },
    {
     "name": "stdin",
     "output_type": "stream",
     "text": [
      "Press \"D\" to deposit, Press \"W\" to withdraw, Press \"E\" to Exit:  D\n",
      "Enter amount to deposit: 25\n"
     ]
    },
    {
     "name": "stdout",
     "output_type": "stream",
     "text": [
      "You have 50 in total\n"
     ]
    },
    {
     "name": "stdin",
     "output_type": "stream",
     "text": [
      "Press \"D\" to deposit, Press \"W\" to withdraw, Press \"E\" to Exit:  E\n"
     ]
    },
    {
     "name": "stdout",
     "output_type": "stream",
     "text": [
      "Press Shift+Enter to restart\n"
     ]
    }
   ],
   "source": [
    "class BankAccount:\n",
    "\n",
    "    # class attribute\n",
    "    AccountType = 'Saving Account'\n",
    "\n",
    "    # initializer / contstructor\n",
    "    def __init__(self):\n",
    "        # instance attribute\n",
    "        self.balance = 0 # start balance = 0\n",
    "\n",
    "    #instance method\n",
    "    def deposit(self, amount):\n",
    "        self.balance += amount\n",
    "        return self.balance\n",
    "\n",
    "    #instance method\n",
    "    def withdraw(self, amount):\n",
    "        self.balance -= amount # self.balance(new) = self.balance(old) - amount\n",
    "        return self.balance\n",
    "\n",
    "    #instance method\n",
    "    def __str__(self):\n",
    "        return f'You have {self.balance} in total'    \n",
    "# Example\n",
    "myAccount = BankAccount()\n",
    "\n",
    "while True:\n",
    "    mode = input(\"Press \\\"D\\\" to deposit, Press \\\"W\\\" to withdraw, Press \\\"E\\\" to Exit: \")\n",
    "    if mode == \"D\":\n",
    "        amount = int(input(\"Enter amount to deposit:\"))\n",
    "        # Call deposit\n",
    "        myAccount.deposit(amount)\n",
    "        print(myAccount)\n",
    "    elif mode == \"W\":\n",
    "        amount = int(input(\"Enter amount to withdraw:\"))\n",
    "        if amount > myAccount.balance:\n",
    "            print(\"Not Enough Money!\")\n",
    "        else:\n",
    "            # Call Withdraw\n",
    "            myAccount.withdraw(amount)\n",
    "            print(myAccount)\n",
    "    elif mode == \"E\":\n",
    "        break\n",
    "    else:\n",
    "        print(\"Unavailable\")\n",
    "\n",
    "print(\"Press Shift+Enter to restart\")"
   ]
  },
  {
   "cell_type": "markdown",
   "id": "90b7c6dd-3767-45f5-975f-da39a8926ecd",
   "metadata": {},
   "source": [
    "### Examples of Dunder Methods\n",
    "##### Pre-defined functions for enriching classes"
   ]
  },
  {
   "cell_type": "markdown",
   "id": "1587b0aa-5d1d-4344-830a-c38cf2312bc3",
   "metadata": {},
   "source": [
    "#### 1. __init__"
   ]
  },
  {
   "cell_type": "code",
   "execution_count": 27,
   "id": "fa25a64a-fc3f-48af-9b97-40473d0e6ea5",
   "metadata": {},
   "outputs": [
    {
     "name": "stdout",
     "output_type": "stream",
     "text": [
      "Jake\n"
     ]
    }
   ],
   "source": [
    "class Dog:\n",
    "\n",
    "    def __init__(self, name, age):\n",
    "        self.name = name\n",
    "        self.age = age\n",
    "\n",
    "mypup = Dog('Jake', 9)\n",
    "print(mypup.name)"
   ]
  },
  {
   "cell_type": "markdown",
   "id": "36817150-0136-4793-ad16-2237e2b69c46",
   "metadata": {},
   "source": [
    "#### 2. str"
   ]
  },
  {
   "cell_type": "code",
   "execution_count": 33,
   "id": "76391039-b740-429b-ad9d-c05fa20383f4",
   "metadata": {},
   "outputs": [
    {
     "name": "stdout",
     "output_type": "stream",
     "text": [
      "This is Jake, He is 9 yrs old\n"
     ]
    }
   ],
   "source": [
    "class Dog:\n",
    "\n",
    "    def __init__(self, name, age):\n",
    "        self.name = name\n",
    "        self.age = age\n",
    "\n",
    "    def __str__(self):\n",
    "        return f'This is {mypup.name}, He is {mypup.age} yrs old'\n",
    "\n",
    "mypup = Dog('Jake', 9)\n",
    "print(mypup)"
   ]
  },
  {
   "cell_type": "markdown",
   "id": "5ada457a-93a7-4ce2-9ffd-3593a6e8c3a4",
   "metadata": {},
   "source": [
    "# Inheritance\n",
    "##### Shape(Parent) can give its atrribute(color) to Circle(Child)"
   ]
  },
  {
   "cell_type": "code",
   "execution_count": 34,
   "id": "528a63c4-3fe8-4c2b-b29f-b2e6cfa0b476",
   "metadata": {},
   "outputs": [
    {
     "name": "stdout",
     "output_type": "stream",
     "text": [
      "radius of c1 10\n",
      "color of c1 black\n"
     ]
    }
   ],
   "source": [
    "# Parent Class\n",
    "class Shape:\n",
    "    \n",
    "    def __init__(self):\n",
    "        self.color = 'black'\n",
    "    def get_color(self):\n",
    "        return self.color\n",
    "\n",
    "# Child Class\n",
    "class Circle(Shape):\n",
    "\n",
    "    def __init__(self):\n",
    "        super().__init__()\n",
    "        self.radius = 10\n",
    "    def get_radius(self):\n",
    "        return self.radius\n",
    "\n",
    "c1 = Circle()\n",
    "print('radius of c1', c1.get_radius())\n",
    "print('color of c1', c1.get_color())"
   ]
  },
  {
   "cell_type": "markdown",
   "id": "f78f1c9e-19e3-4a46-9935-b546f4a690ac",
   "metadata": {},
   "source": [
    "# Polymorphism\n",
    "##### Rectangle(Child) can override its attribute(color) that received from Shape(Parent)"
   ]
  },
  {
   "cell_type": "code",
   "execution_count": 39,
   "id": "a696380f-5f76-4e6e-8c67-2a7f46d1c3c2",
   "metadata": {},
   "outputs": [
    {
     "name": "stdout",
     "output_type": "stream",
     "text": [
      "c1 is black\n",
      "s1 is yellow\n"
     ]
    }
   ],
   "source": [
    "# Parent Class\n",
    "class Shape:\n",
    "\n",
    "    color = 'black'\n",
    "\n",
    "# Child Class\n",
    "class Circle(Shape):\n",
    "\n",
    "    pass\n",
    "\n",
    "# Child Class\n",
    "class Rectangle(Shape):\n",
    "\n",
    "    color = 'yellow'\n",
    "\n",
    "c1 = Circle()\n",
    "s1 = Rectangle()\n",
    "\n",
    "print('c1 is', c1.color + '\\n' + 's1 is', s1.color) "
   ]
  },
  {
   "cell_type": "code",
   "execution_count": null,
   "id": "8534f4cd-c431-46b5-b0b2-9e49c1ef7703",
   "metadata": {},
   "outputs": [],
   "source": []
  }
 ],
 "metadata": {
  "kernelspec": {
   "display_name": "Python 3 (ipykernel)",
   "language": "python",
   "name": "python3"
  },
  "language_info": {
   "codemirror_mode": {
    "name": "ipython",
    "version": 3
   },
   "file_extension": ".py",
   "mimetype": "text/x-python",
   "name": "python",
   "nbconvert_exporter": "python",
   "pygments_lexer": "ipython3",
   "version": "3.13.5"
  }
 },
 "nbformat": 4,
 "nbformat_minor": 5
}
