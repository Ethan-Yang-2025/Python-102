{
 "cells": [
  {
   "cell_type": "markdown",
   "id": "621fb872-c2bb-4837-9aef-7a5b66a6d896",
   "metadata": {},
   "source": [
    "# Conditional Statement"
   ]
  },
  {
   "cell_type": "markdown",
   "id": "13819508-c60d-4d78-a098-f0a54f47ea4d",
   "metadata": {},
   "source": [
    "### If Statement"
   ]
  },
  {
   "cell_type": "code",
   "execution_count": 12,
   "id": "1501d6f0-ef89-4114-ba26-c0a2957c0f18",
   "metadata": {},
   "outputs": [
    {
     "name": "stdin",
     "output_type": "stream",
     "text": [
      "Guess a number:  50\n"
     ]
    },
    {
     "name": "stdout",
     "output_type": "stream",
     "text": [
      "You are right!\n",
      "Press Shift+Enter guess again.\n"
     ]
    }
   ],
   "source": [
    "answer = [10, 20, 30, 40, 50]\n",
    "guess = int(input(\"Guess a number:\"))\n",
    "if guess in answer:\n",
    "    print(\"You are right!\")\n",
    "print (\"Press Shift+Enter to replay.\")"
   ]
  },
  {
   "cell_type": "markdown",
   "id": "5b7746b2-a523-4948-b7fb-c6a50efde6e3",
   "metadata": {},
   "source": [
    "### If-Else Statement"
   ]
  },
  {
   "cell_type": "code",
   "execution_count": 16,
   "id": "723dbca3-40a6-43db-824f-a11a6da5d4a1",
   "metadata": {},
   "outputs": [
    {
     "name": "stdin",
     "output_type": "stream",
     "text": [
      "Guess a number:  50\n"
     ]
    },
    {
     "name": "stdout",
     "output_type": "stream",
     "text": [
      "You are right!\n",
      "Press Shift+Enter to replay.\n"
     ]
    }
   ],
   "source": [
    "answer = [10, 20, 30, 40, 50]\n",
    "guess = int(input(\"Guess a number:\"))\n",
    "if guess in answer:\n",
    "    print(\"You are right!\")\n",
    "else :\n",
    "    print(\"Try again!\")\n",
    "print (\"Press Shift+Enter to replay.\")"
   ]
  },
  {
   "cell_type": "markdown",
   "id": "0f3348f4-b835-4667-b8a5-7d2c47003fc9",
   "metadata": {},
   "source": [
    "### If-Elif-Else Statement"
   ]
  },
  {
   "cell_type": "code",
   "execution_count": 22,
   "id": "26517db3-2b51-4d04-b30b-b15e35d2c98d",
   "metadata": {},
   "outputs": [
    {
     "name": "stdin",
     "output_type": "stream",
     "text": [
      "Guess a number: 100\n"
     ]
    },
    {
     "name": "stdout",
     "output_type": "stream",
     "text": [
      "Try again!\n",
      "Press Shift+Enter to replay.\n"
     ]
    }
   ],
   "source": [
    "firstprize = [1, 3, 5, 7, 9]\n",
    "secondprize = [0, 2, 4, 6, 8]\n",
    "thirdprize = [10, 15, 20, 25]\n",
    "guess = int(input(\"Guess a number:\"))\n",
    "\n",
    "if guess in firstprize:\n",
    "    print(\"You'll get the firstprize!\")\n",
    "elif guess in secondprize:\n",
    "    print(\"You'll get the secondprize!\")\n",
    "elif guess in thirdprize:\n",
    "    print(\"You'll get the thirdprize!\")\n",
    "else:\n",
    "    print(\"Try again!\")\n",
    "print(\"Press Shift+Enter to replay.\")"
   ]
  },
  {
   "cell_type": "markdown",
   "id": "c88551bc-c26f-4e7c-af2a-59c670c05cfb",
   "metadata": {},
   "source": [
    "### Nested if Statement"
   ]
  },
  {
   "cell_type": "code",
   "execution_count": 69,
   "id": "f91cf4eb-b3e2-4128-ad20-9c3b3311d960",
   "metadata": {},
   "outputs": [
    {
     "name": "stdin",
     "output_type": "stream",
     "text": [
      "Guess a number: 7\n"
     ]
    },
    {
     "name": "stdout",
     "output_type": "stream",
     "text": [
      "You'll get the firstprize!\n",
      "Press Shift+Enter to replay.\n"
     ]
    }
   ],
   "source": [
    "firstprize = [1, 3, 5, 7, 9]\n",
    "secondprize = [0, 2, 4, 6, 8]\n",
    "thirdprize = [10, 15, 20, 25]\n",
    "guess = int(input(\"Guess a number:\"))\n",
    "\n",
    "if guess < 0:\n",
    "    print(\"Too low!\")\n",
    "elif guess >= 0 and guess <= 25:\n",
    "    if guess in firstprize:\n",
    "        print(\"You'll get the firstprize!\")\n",
    "    elif guess in secondprize:\n",
    "        print(\"You'll get the secondprize!\")\n",
    "    elif guess in thirdprize:\n",
    "        print(\"You'll get the thirdprize!\")\n",
    "    else:\n",
    "        print(\"You're almost there!\")\n",
    "elif guess > 25 and guess < 30:\n",
    "    print(\"Lower down a bit.\")\n",
    "else:\n",
    "    print(\"Too high!\")\n",
    "print(\"Press Shift+Enter to replay.\")"
   ]
  },
  {
   "cell_type": "code",
   "execution_count": 75,
   "id": "804f404c-c9b7-4b75-8551-f24617cdbd32",
   "metadata": {},
   "outputs": [
    {
     "name": "stdin",
     "output_type": "stream",
     "text": [
      "Guess a number: 20\n"
     ]
    },
    {
     "name": "stdout",
     "output_type": "stream",
     "text": [
      "You'll get the thirdprize!\n",
      "Press Shift+Enter to replay.\n"
     ]
    }
   ],
   "source": [
    "firstprize = {1, 3, 5, 7, 9}\n",
    "secondprize = {0, 2, 4, 6, 8}\n",
    "thirdprize = {10, 15, 20, 25}\n",
    "\n",
    "guess = int(input(\"Guess a number:\"))\n",
    "\n",
    "if guess < 0:\n",
    "    print(\"Too low!\")\n",
    "elif guess <= 25:\n",
    "    if guess in firstprize:\n",
    "        print(\"You'll get the firstprize!\")\n",
    "    elif guess in secondprize:\n",
    "        print(\"You'll get the secondprize!\")\n",
    "    elif guess in thirdprize:\n",
    "        print(\"You'll get the thirdprize!\")\n",
    "    else:\n",
    "        print(\"You're almost there!\")\n",
    "elif guess < 30:\n",
    "    print(\"Lower down a bit.\")\n",
    "else:\n",
    "    print(\"Too high!\")\n",
    "\n",
    "print(\"Press Shift+Enter to replay.\")"
   ]
  },
  {
   "cell_type": "code",
   "execution_count": null,
   "id": "49c62f88-9a0f-4ae5-b833-947569def315",
   "metadata": {},
   "outputs": [],
   "source": []
  }
 ],
 "metadata": {
  "kernelspec": {
   "display_name": "Python 3 (ipykernel)",
   "language": "python",
   "name": "python3"
  },
  "language_info": {
   "codemirror_mode": {
    "name": "ipython",
    "version": 3
   },
   "file_extension": ".py",
   "mimetype": "text/x-python",
   "name": "python",
   "nbconvert_exporter": "python",
   "pygments_lexer": "ipython3",
   "version": "3.13.5"
  }
 },
 "nbformat": 4,
 "nbformat_minor": 5
}
